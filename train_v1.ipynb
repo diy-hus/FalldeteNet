{
 "cells": [
  {
   "cell_type": "code",
   "execution_count": 1,
   "id": "eb7cb0f3-cd6d-468f-b757-3d83dcf40033",
   "metadata": {},
   "outputs": [],
   "source": [
    "# import torch\n",
    "# print(\"PyTorch version:\", torch.__version__)\n",
    "# print(\"CUDA available:\", torch.cuda.is_available())\n",
    "# if torch.cuda.is_available():\n",
    "#     print(\"GPU:\", torch.cuda.get_device_name(0))\n"
   ]
  },
  {
   "cell_type": "code",
   "execution_count": 2,
   "id": "1ab65c6a-ab75-4666-ba6e-a05a4acc3c8d",
   "metadata": {
    "editable": true,
    "slideshow": {
     "slide_type": ""
    },
    "tags": []
   },
   "outputs": [],
   "source": [
    "# import zipfile\n",
    "# import requests\n",
    "# import os\n",
    "\n",
    "# # Tạo thư mục lưu dữ liệu\n",
    "# os.makedirs(r\"C:\\Users\\PC\\coco\\images\", exist_ok=True)\n",
    "# os.makedirs(r\"C:\\Users\\PC\\coco\\annotations\", exist_ok=True)\n",
    "\n",
    "# # Hàm tải file\n",
    "# def download_file(url, save_path):\n",
    "#     response = requests.get(url, stream=True)\n",
    "#     with open(save_path, 'wb') as f:\n",
    "#         for chunk in response.iter_content(chunk_size=8192):\n",
    "#             f.write(chunk)\n",
    "#     print(f\"✅ Đã tải {save_path}\")\n",
    "\n",
    "# # Hàm giải nén và xóa zip\n",
    "# def unzip_and_remove(zip_path, extract_to):\n",
    "#     with zipfile.ZipFile(zip_path, 'r') as zip_ref:\n",
    "#         zip_ref.extractall(extract_to)\n",
    "#     os.remove(zip_path)\n",
    "#     print(f\"✅ Đã giải nén và xóa {zip_path}\")\n",
    "\n",
    "# # URLs cho COCO 2017\n",
    "# urls = {\n",
    "#     \"train2017.zip\": \"http://images.cocodataset.org/zips/train2017.zip\",\n",
    "#     \"val2017.zip\": \"http://images.cocodataset.org/zips/val2017.zip\",\n",
    "#     \"annotations_trainval2017.zip\": \"http://images.cocodataset.org/annotations/annotations_trainval2017.zip\"\n",
    "# }\n",
    "\n",
    "\n",
    "\n",
    "# print(\"✅ Đã cài đặt xong và tạo thư mục dữ liệu.\")\n",
    "# # Tải và xử lý dữ liệu\n",
    "# for filename, url in urls.items():\n",
    "#     download_file(url, filename)\n",
    "#     extract_to = r\"C:\\Users\\PC\\coco\\images\" if \"train\" in filename or \"val\" in filename else r\"C:\\Users\\PC\\coco\\annotations\"\n",
    "#     unzip_and_remove(filename, extract_to)"
   ]
  },
  {
   "cell_type": "code",
   "execution_count": 3,
   "id": "fee2d8a7-e21e-4582-8435-9194ebc4f349",
   "metadata": {},
   "outputs": [],
   "source": [
    "# pip install tensorflow-gpu==2.10.1"
   ]
  },
  {
   "cell_type": "code",
   "execution_count": 4,
   "id": "a1f72a36-b3f3-4488-9166-3f5f501008e8",
   "metadata": {},
   "outputs": [],
   "source": [
    "# import tensorflow as tf\n",
    "# print(\"TensorFlow version:\", tf.__version__)\n",
    "# print(\"Available GPU(s):\", tf.config.list_physical_devices('GPU'))"
   ]
  },
  {
   "cell_type": "code",
   "execution_count": 5,
   "id": "7e44ecad-b57a-4548-af7b-945c25dbc7bb",
   "metadata": {},
   "outputs": [
    {
     "name": "stdout",
     "output_type": "stream",
     "text": [
      "✅ Đã tạo file new_coco-pose.yaml!\n"
     ]
    }
   ],
   "source": [
    "yaml_content = \"\"\"\n",
    "path: C:\\\\Users\\\\PC\\\\coco\n",
    "train: train2017.txt\n",
    "val: val2017.txt\n",
    "\n",
    "names:\n",
    "  0: person\n",
    "  \n",
    "kpt_shape: [17, 3] # number of keypoints, number of dims (2 for x,y or 3 for x,y,visible)\n",
    "flip_idx: [0, 2, 1, 4, 3, 6, 5, 8, 7, 10, 9, 12, 11, 14, 13, 16, 15]\n",
    "\n",
    "\"\"\"\n",
    "\n",
    "with open(r\"C:\\Users\\PC\\new_coco-pose.yaml\", \"w\") as f:\n",
    "    f.write(yaml_content)\n",
    "print(\"✅ Đã tạo file new_coco-pose.yaml!\")"
   ]
  },
  {
   "cell_type": "code",
   "execution_count": 6,
   "id": "5523e339-6920-4a84-9d4c-ab56055a26c0",
   "metadata": {},
   "outputs": [],
   "source": [
    "# import json\n",
    "\n",
    "# def convert_coco_to_yolo_keypoints(coco_json_path, images_dir, labels_dir):\n",
    "#     os.makedirs(labels_dir, exist_ok=True)\n",
    "#     with open(coco_json_path) as f:\n",
    "#         coco = json.load(f)\n",
    "\n",
    "#     image_id_to_filename = {img['id']: img['file_name'] for img in coco['images']}\n",
    "\n",
    "#     for ann in coco['annotations']:\n",
    "#         if ann['num_keypoints'] == 0:\n",
    "#             continue  # Bỏ qua ảnh không có keypoints\n",
    "\n",
    "#         image_id = ann['image_id']\n",
    "#         bbox = ann['bbox']\n",
    "#         keypoints = ann['keypoints']\n",
    "\n",
    "#         x_center = (bbox[0] + bbox[2] / 2) / 640\n",
    "#         y_center = (bbox[1] + bbox[3] / 2) / 640\n",
    "#         width = bbox[2] / 640\n",
    "#         height = bbox[3] / 640\n",
    "\n",
    "#         # Chuẩn hóa keypoints\n",
    "#         kp_norm = [str(kp / 640 if i % 3 != 2 else kp) for i, kp in enumerate(keypoints)]\n",
    "\n",
    "#         label_line = f\"0 {x_center} {y_center} {width} {height} {' '.join(kp_norm)}\\n\"\n",
    "#         label_file = os.path.join(labels_dir, image_id_to_filename[image_id].replace('.jpg', '.txt'))\n",
    "\n",
    "#         with open(label_file, 'a') as f:\n",
    "#             f.write(label_line)\n",
    "\n",
    "#     print(f\"✅ Chuyển đổi xong {len(coco['annotations'])} annotations → {labels_dir}\")\n",
    "\n",
    "# # Chuyển đổi nhãn cho train và val\n",
    "# convert_coco_to_yolo_keypoints(r\"C:\\Users\\PC\\coco\\images\\annotations\\person_keypoints_train2017.json\",\n",
    "#                                 r\"C:\\Users\\PC\\coco\\images\\train2017\",\n",
    "#                                r\"C:\\Users\\PC\\coco\\labels\\train2017\")\n",
    "\n",
    "# convert_coco_to_yolo_keypoints(r\"C:\\Users\\PC\\coco\\images\\annotations\\person_keypoints_val2017.json\",\n",
    "#                                r\"C:\\Users\\PC\\coco\\images\\val2017\",\n",
    "#                                r\"C:\\Users\\PC\\coco\\labels\\val2017\")\n"
   ]
  },
  {
   "cell_type": "code",
   "execution_count": 7,
   "id": "3458b737-e1a1-41d6-a84f-b61433404554",
   "metadata": {},
   "outputs": [
    {
     "name": "stdout",
     "output_type": "stream",
     "text": [
      "Overwriting dyyolov8-pose.yaml\n"
     ]
    }
   ],
   "source": [
    "%%writefile dyyolov8-pose.yaml\n",
    "nc: 1 # number of classes\n",
    "kpt_shape: [17, 3] # number of keypoints, number of dims (2 for x,y or 3 for x,y,visible)\n",
    "scales: # model compound scaling constants, i.e. 'model=yolov8n-pose.yaml' will call yolov8-pose.yaml with scale 'n'\n",
    "  # [depth, width, max_channels]\n",
    "  n: [0.33, 0.25, 1024]\n",
    "  s: [0.33, 0.50, 1024]\n",
    "  m: [0.67, 0.75, 768]\n",
    "  l: [1.00, 1.00, 512]\n",
    "  x: [1.00, 1.25, 512]\n",
    "\n",
    "# YOLOv8.0n backbone\n",
    "backbone:\n",
    "  # [from, repeats, module, args]\n",
    "  - [-1, 1, Conv, [64, 3, 2]] # 0-P1/2\n",
    "  - [-1, 1, Conv, [128, 3, 2]] # 1-P2/4\n",
    "  - [-1, 3, DyC2f, [128, True]]\n",
    "  - [-1, 1, Conv, [256, 3, 2]] # 3-P3/8\n",
    "  - [-1, 6, DyC2f, [256, True]]\n",
    "  - [-1, 1, Conv, [512, 3, 2]] # 5-P4/16\n",
    "  - [-1, 6, DyC2f, [512, True]]\n",
    "  - [-1, 1, Conv, [1024, 3, 2]] # 7-P5/32\n",
    "  - [-1, 3, DyC2f, [1024, True]]\n",
    "  - [-1, 1, SPPF, [1024, 5]] # 9\n",
    "\n",
    "# YOLOv8.0n head\n",
    "head:\n",
    "  - [-1, 1, nn.Upsample, [None, 2, \"nearest\"]]\n",
    "  - [[-1, 6], 1, Concat, [1]] # cat backbone P4\n",
    "  - [-1, 3, DyC2f, [512]] # 12\n",
    "\n",
    "  - [-1, 1, nn.Upsample, [None, 2, \"nearest\"]]\n",
    "  - [[-1, 4], 1, Concat, [1]] # cat backbone P3\n",
    "  - [-1, 3, DyC2f, [256]] # 15 (P3/8-small)\n",
    "\n",
    "  - [-1, 1, Conv, [256, 3, 2]]\n",
    "  - [[-1, 12], 1, Concat, [1]] # cat head P4\n",
    "  - [-1, 3, DyC2f, [512]] # 18 (P4/16-medium)\n",
    "\n",
    "  - [-1, 1, Conv, [512, 3, 2]]\n",
    "  - [[-1, 9], 1, Concat, [1]] # cat head P5\n",
    "  - [-1, 3, DyC2f, [1024]] # 21 (P5/32-large)\n",
    "\n",
    "  - [[15, 18, 21], 1, Pose, [nc, kpt_shape]] # Pose(P3, P4, P5)"
   ]
  },
  {
   "cell_type": "code",
   "execution_count": 8,
   "id": "b545fd50-8e60-4b37-bcd0-b36ba0bb0f1b",
   "metadata": {},
   "outputs": [
    {
     "name": "stdout",
     "output_type": "stream",
     "text": [
      "DyC2f class successfully appended to block.py\n"
     ]
    }
   ],
   "source": [
    "file_path = r\"C:\\Users\\PC\\anaconda3\\envs\\train_env\\Lib\\site-packages\\ultralytics\\nn\\modules\\block.py\"\n",
    "\n",
    "# anaconda3/envs/train_env/Lib/site-packages/ultralytics/nn/modules/block.py\n",
    "c2f_class_code = \"\"\"\n",
    "\n",
    "class ContextGenerationModule(nn.Module):\n",
    "    def __init__(self, in_channels, reduction=16):\n",
    "        super(ContextGenerationModule, self).__init__()\n",
    "        reduced_channels = max(1, in_channels // reduction)\n",
    "\n",
    "        self.avg_pool_w = nn.AdaptiveAvgPool2d((1, None))  # Eq. (2)\n",
    "        self.avg_pool_h = nn.AdaptiveAvgPool2d((None, 1))  # Eq. (3)\n",
    "\n",
    "        self.shared_fc = nn.Sequential(\n",
    "            nn.Linear(in_channels, reduced_channels, bias=False),\n",
    "            nn.BatchNorm1d(reduced_channels),\n",
    "            nn.Hardswish()\n",
    "        )\n",
    "\n",
    "        self.fc_out = nn.Linear(reduced_channels * 2, in_channels, bias=True)  # Eq. (6)\n",
    "\n",
    "    def forward(self, x):\n",
    "        b, c, h, w = x.size()\n",
    "\n",
    "        x_w = self.avg_pool_w(x).view(b, c, w)  # (B, C, W)\n",
    "        x_h = self.avg_pool_h(x).view(b, c, h)  # (B, C, H)\n",
    "\n",
    "        x_w = self.shared_fc(x_w.permute(0, 2, 1)).permute(0, 2, 1)  # Eq. (4)\n",
    "        x_h = self.shared_fc(x_h.permute(0, 2, 1)).permute(0, 2, 1)  # Eq. (4)\n",
    "\n",
    "        x_context = torch.cat([x_w.mean(dim=2), x_h.mean(dim=2)], dim=1)  # Eq. (5)\n",
    "        kernel_weights = self.fc_out(x_context).view(b, c, 1, 1)  # Eq. (6)\n",
    "\n",
    "        return kernel_weights\n",
    "\n",
    "class DyC2f(nn.Module):\n",
    "\n",
    "    def __init__(self, c1, c2, n=1, shortcut=False, g=1, e=0.5):\n",
    "        super().__init__()\n",
    "        self.c = int(c2 * e)  # hidden channels\n",
    "        self.cv1 = Conv(c1, 2 * self.c, 1, 1)\n",
    "        self.cv2 = Conv((2 + n) * self.c, c2, 1)  # optional act=FReLU(c2)\n",
    "        self.cgm = ContextGenerationModule(c2, reduction=4)\n",
    "        self.m = nn.ModuleList(Bottleneck(self.c, self.c, shortcut, g, k=((3, 3), (3, 3)), e=1.0) for _ in range(n))\n",
    "\n",
    "    def forward(self, x):\n",
    "        #kernel_weights = self.cgm(x)  # Dynamic kernel generation\n",
    "        y = list(self.cv1(x).chunk(2, 1))\n",
    "        y.extend(m(y[-1]) for m in self.m)\n",
    "        return self.cv2(torch.cat(y, 1))# + kernel_weights\n",
    "\"\"\"\n",
    "\n",
    "# Append the class definition to the file\n",
    "with open(file_path, \"a\") as f:\n",
    "    f.write(\"\\n\" + c2f_class_code)\n",
    "\n",
    "print(\"DyC2f class successfully appended to block.py\")\n"
   ]
  },
  {
   "cell_type": "code",
   "execution_count": 9,
   "id": "6add365c-386c-4e99-a754-21b57c96caad",
   "metadata": {},
   "outputs": [
    {
     "name": "stdout",
     "output_type": "stream",
     "text": [
      "DyC2f class successfully appended to block.py\n"
     ]
    }
   ],
   "source": [
    "import os\n",
    "\n",
    "file_path = r\"C:\\Users\\PC\\anaconda3\\envs\\train_env\\Lib\\site-packages\\ultralytics\\nn\\tasks.py\"\n",
    "\n",
    "if not os.path.exists(file_path):\n",
    "    print(\"File does not exist.\")\n",
    "else:\n",
    "    # Read the file contents with utf-8 encoding\n",
    "    with open(file_path, 'r', encoding='utf-8') as file:\n",
    "        filedata = file.read()\n",
    "\n",
    "    # Replace the target string\n",
    "    newdata = filedata.replace(\" C2f,\\n\", \" C2f, DyC2f,\\n\")\n",
    "\n",
    "    # Write the file out again with utf-8 encoding\n",
    "    with open(file_path, 'w', encoding='utf-8') as file:\n",
    "        file.write(newdata)\n",
    "\n",
    "    print(\"DyC2f class successfully appended to block.py\")\n"
   ]
  },
  {
   "cell_type": "code",
   "execution_count": 10,
   "id": "13737c1a-7d9c-4c22-a19d-12a6a319a4e8",
   "metadata": {},
   "outputs": [
    {
     "name": "stdout",
     "output_type": "stream",
     "text": [
      "Replacement complete.\n"
     ]
    }
   ],
   "source": [
    "# Define the file path\n",
    "file_path = r\"C:\\Users\\PC\\anaconda3\\envs\\train_env\\Lib\\site-packages\\ultralytics\\nn\\modules\\__init__.py\"\n",
    "\n",
    "# Check if the file exists\n",
    "if not os.path.isfile(file_path):\n",
    "    print(f\"File not found: {file_path}\")\n",
    "else:\n",
    "    # Read the file contents\n",
    "    with open(file_path, 'r') as file:\n",
    "        filedata = file.read()\n",
    "\n",
    "    # Replace the target string\n",
    "    newdata = filedata.replace(\" C2f,\\n\", \" C2f, DyC2f,\\n\")\n",
    "\n",
    "    # Write the modified content back to the file\n",
    "    with open(file_path, 'w') as file:\n",
    "        file.write(newdata)\n",
    "\n",
    "    print(\"Replacement complete.\")"
   ]
  },
  {
   "cell_type": "code",
   "execution_count": 11,
   "id": "6ce275bf-93ba-4e74-bbe5-fb8524065571",
   "metadata": {},
   "outputs": [],
   "source": [
    "# pip install torchsummary"
   ]
  },
  {
   "cell_type": "code",
   "execution_count": 12,
   "id": "c7ba1e2e-1902-408b-a9e1-c6351b1cdd65",
   "metadata": {},
   "outputs": [],
   "source": [
    "import torch\n",
    "import torch.nn as nn\n",
    "from ultralytics import YOLO\n",
    "import os\n",
    "from torchsummary import summary\n",
    "from ultralytics.nn.modules import C2f # Import the C2F class"
   ]
  },
  {
   "cell_type": "code",
   "execution_count": 13,
   "id": "05bc083e-7ce9-40b4-a323-175f2451220c",
   "metadata": {},
   "outputs": [],
   "source": [
    "FallDeteNet_V2 = YOLO(r\"C:\\Users\\PC\\dyyolov8n-pose.yaml\")\n"
   ]
  },
  {
   "cell_type": "code",
   "execution_count": 14,
   "id": "59aa75a6-1462-4d7b-bbc7-c3889140afa2",
   "metadata": {},
   "outputs": [],
   "source": [
    "import os\n",
    "import torch\n",
    "import pandas as pd"
   ]
  },
  {
   "cell_type": "code",
   "execution_count": 15,
   "id": "c5d8661e-1ebd-4954-95fd-70b112782c2b",
   "metadata": {},
   "outputs": [],
   "source": [
    "best_loss = float(\"inf\")  # Giá trị loss tốt nhất\n",
    "results = []  # Danh sách lưu kết quả từng epoch"
   ]
  },
  {
   "cell_type": "code",
   "execution_count": 16,
   "id": "332d15d8-e515-4d05-a739-ae5a14e27a02",
   "metadata": {},
   "outputs": [],
   "source": [
    "def train_model(model, data_yaml, epochs=50, batch_size=128, img_size=320, device=\"cuda\"):\n",
    "    \"\"\"\n",
    "    Huấn luyện mô hình FallDeteNet_V2 trên COCO-Pose dataset và lưu các giá trị loss, metric chi tiết vào Google Drive.\n",
    "\n",
    "    Args:\n",
    "        model: Mô hình đã được khởi tạo từ CustomYOLOPose_v2.\n",
    "        data_yaml: Đường dẫn đến file coco-pose.yaml.\n",
    "        epochs: Số epoch huấn luyện.\n",
    "        batch_size: Kích thước batch.\n",
    "        img_size: Kích thước ảnh.\n",
    "        device: Thiết bị huấn luyện (mặc định: \"cuda\").\n",
    "    \"\"\"\n",
    "\n",
    "    global best_loss, results\n",
    "\n",
    "    # Kiểm tra thiết bị\n",
    "    device = torch.device(device if torch.cuda.is_available() else \"cpu\")\n",
    "    model.to(device)\n",
    "\n",
    "    # Tiến hành huấn luyện\n",
    "    for epoch in range(epochs):\n",
    "        print(f\"\\n🚀 Epoch {epoch+1}/{epochs} đang huấn luyện...\")\n",
    "\n",
    "        # Huấn luyện và lấy metrics\n",
    "        metrics = model.train(\n",
    "            data=data_yaml,\n",
    "            epochs= epochs,  # Chạy từng epoch một để lưu kết quả sau mỗi lần\n",
    "            batch=batch_size,\n",
    "            imgsz=img_size,\n",
    "            device=device,\n",
    "            workers=6,\n",
    "            name=\"FallDeteNet_V2\",\n",
    "            verbose=True,\n",
    "        )"
   ]
  },
  {
   "cell_type": "code",
   "execution_count": null,
   "id": "256cfb5a-c4e2-47ab-aa61-f30adeeb8653",
   "metadata": {
    "scrolled": true
   },
   "outputs": [
    {
     "name": "stdout",
     "output_type": "stream",
     "text": [
      "\n",
      "🚀 Epoch 1/100 đang huấn luyện...\n",
      "\u001b[34m\u001b[1mengine\\trainer: \u001b[0mtask=pose, mode=train, model=C:\\Users\\PC\\dyyolov8n-pose.yaml, data=new_coco-pose.yaml, epochs=100, time=None, patience=100, batch=32, imgsz=640, save=True, save_period=-1, cache=False, device=cuda, workers=6, project=None, name=FallDeteNet_V26, exist_ok=False, pretrained=True, optimizer=auto, verbose=True, seed=0, deterministic=True, single_cls=False, rect=False, cos_lr=False, close_mosaic=10, resume=False, amp=True, fraction=1.0, profile=False, freeze=None, multi_scale=False, overlap_mask=True, mask_ratio=4, dropout=0.0, val=True, split=val, save_json=False, save_hybrid=False, conf=None, iou=0.7, max_det=300, half=False, dnn=False, plots=True, source=None, vid_stride=1, stream_buffer=False, visualize=False, augment=False, agnostic_nms=False, classes=None, retina_masks=False, embed=None, show=False, save_frames=False, save_txt=False, save_conf=False, save_crop=False, show_labels=True, show_conf=True, show_boxes=True, line_width=None, format=torchscript, keras=False, optimize=False, int8=False, dynamic=False, simplify=True, opset=None, workspace=None, nms=False, lr0=0.01, lrf=0.01, momentum=0.937, weight_decay=0.0005, warmup_epochs=3.0, warmup_momentum=0.8, warmup_bias_lr=0.1, box=7.5, cls=0.5, dfl=1.5, pose=12.0, kobj=1.0, nbs=64, hsv_h=0.015, hsv_s=0.7, hsv_v=0.4, degrees=0.0, translate=0.1, scale=0.5, shear=0.0, perspective=0.0, flipud=0.0, fliplr=0.5, bgr=0.0, mosaic=1.0, mixup=0.0, copy_paste=0.0, copy_paste_mode=flip, auto_augment=randaugment, erasing=0.4, crop_fraction=1.0, cfg=None, tracker=botsort.yaml, save_dir=runs\\pose\\FallDeteNet_V26\n",
      "\n",
      "                   from  n    params  module                                       arguments                     \n",
      "  0                  -1  1       464  ultralytics.nn.modules.conv.Conv             [3, 16, 3, 2]                 \n",
      "  1                  -1  1      4672  ultralytics.nn.modules.conv.Conv             [16, 32, 3, 2]                \n",
      "  2                  -1  1      8176  ultralytics.nn.modules.block.DyC2f           [32, 32, 1, True]             \n",
      "  3                  -1  1     18560  ultralytics.nn.modules.conv.Conv             [32, 64, 3, 2]                \n",
      "  4                  -1  2     52832  ultralytics.nn.modules.block.DyC2f           [64, 64, 2, True]             \n",
      "  5                  -1  1     73984  ultralytics.nn.modules.conv.Conv             [64, 128, 3, 2]               \n",
      "  6                  -1  2    210112  ultralytics.nn.modules.block.DyC2f           [128, 128, 2, True]           \n",
      "  7                  -1  1    295424  ultralytics.nn.modules.conv.Conv             [128, 256, 3, 2]              \n",
      "  8                  -1  1    509824  ultralytics.nn.modules.block.DyC2f           [256, 256, 1, True]           \n",
      "  9                  -1  1    164608  ultralytics.nn.modules.block.SPPF            [256, 256, 5]                 \n",
      " 10                  -1  1         0  torch.nn.modules.upsampling.Upsample         [None, 2, 'nearest']          \n",
      " 11             [-1, 6]  1         0  ultralytics.nn.modules.conv.Concat           [1]                           \n",
      " 12                  -1  1    160704  ultralytics.nn.modules.block.DyC2f           [384, 128, 1]                 \n",
      " 13                  -1  1         0  torch.nn.modules.upsampling.Upsample         [None, 2, 'nearest']          \n",
      " 14             [-1, 4]  1         0  ultralytics.nn.modules.conv.Concat           [1]                           \n",
      " 15                  -1  1     40416  ultralytics.nn.modules.block.DyC2f           [192, 64, 1]                  \n",
      " 16                  -1  1     36992  ultralytics.nn.modules.conv.Conv             [64, 64, 3, 2]                \n",
      " 17            [-1, 12]  1         0  ultralytics.nn.modules.conv.Concat           [1]                           \n",
      " 18                  -1  1    136128  ultralytics.nn.modules.block.DyC2f           [192, 128, 1]                 \n",
      " 19                  -1  1    147712  ultralytics.nn.modules.conv.Conv             [128, 128, 3, 2]              \n",
      " 20             [-1, 9]  1         0  ultralytics.nn.modules.conv.Concat           [1]                           \n",
      " 21                  -1  1    542592  ultralytics.nn.modules.block.DyC2f           [384, 256, 1]                 \n",
      " 22        [15, 18, 21]  1   1035934  ultralytics.nn.modules.head.Pose             [1, [17, 3], [64, 128, 256]]  \n",
      "dyYOLOv8n-pose summary: 192 layers, 3,439,134 parameters, 3,439,118 gradients, 9.3 GFLOPs\n",
      "\n",
      "\u001b[34m\u001b[1mTensorBoard: \u001b[0mStart with 'tensorboard --logdir runs\\pose\\FallDeteNet_V26', view at http://localhost:6006/\n",
      "Freezing layer 'model.22.dfl.conv.weight'\n",
      "\u001b[34m\u001b[1mAMP: \u001b[0mrunning Automatic Mixed Precision (AMP) checks...\n",
      "\u001b[34m\u001b[1mAMP: \u001b[0mchecks passed \n"
     ]
    },
    {
     "name": "stderr",
     "output_type": "stream",
     "text": [
      "\u001b[34m\u001b[1mtrain: \u001b[0mScanning C:\\Users\\PC\\coco\\labels\\train2017.cache... 56599 images, 0 backgrounds, 0 corrupt: 10\u001b[0m\n",
      "\u001b[34m\u001b[1mval: \u001b[0mScanning C:\\Users\\PC\\coco\\labels\\val2017.cache... 2346 images, 0 backgrounds, 0 corrupt: 100%|██\u001b[0m\n"
     ]
    },
    {
     "name": "stdout",
     "output_type": "stream",
     "text": [
      "Plotting labels to runs\\pose\\FallDeteNet_V26\\labels.jpg... \n",
      "\u001b[34m\u001b[1moptimizer:\u001b[0m 'optimizer=auto' found, ignoring 'lr0=0.01' and 'momentum=0.937' and determining best 'optimizer', 'lr0' and 'momentum' automatically... \n",
      "\u001b[34m\u001b[1moptimizer:\u001b[0m SGD(lr=0.01, momentum=0.9) with parameter groups 71 weight(decay=0.0), 89 weight(decay=0.0005), 88 bias(decay=0.0)\n",
      "\u001b[34m\u001b[1mTensorBoard: \u001b[0mmodel graph visualization added \n",
      "Image sizes 640 train, 640 val\n",
      "Using 6 dataloader workers\n",
      "Logging results to \u001b[1mruns\\pose\\FallDeteNet_V26\u001b[0m\n",
      "Starting training for 100 epochs...\n",
      "\n",
      "      Epoch    GPU_mem   box_loss  pose_loss  kobj_loss   cls_loss   dfl_loss  Instances       Size\n"
     ]
    },
    {
     "name": "stderr",
     "output_type": "stream",
     "text": [
      "      1/100      4.95G      2.888      9.389     0.6795      2.946      3.422        125        640: \n",
      "                 Class     Images  Instances      Box(P          R      mAP50  mAP50-95)     Pose(P  \n"
     ]
    },
    {
     "name": "stdout",
     "output_type": "stream",
     "text": [
      "                   all       2346       6352      0.398      0.318      0.298      0.121     0.0427     0.0348    0.00529   0.000922\n",
      "\n",
      "      Epoch    GPU_mem   box_loss  pose_loss  kobj_loss   cls_loss   dfl_loss  Instances       Size\n"
     ]
    },
    {
     "name": "stderr",
     "output_type": "stream",
     "text": [
      "      2/100      4.38G      1.855      7.694     0.5521      1.954      2.217        133        640: \n",
      "                 Class     Images  Instances      Box(P          R      mAP50  mAP50-95)     Pose(P  \n"
     ]
    },
    {
     "name": "stdout",
     "output_type": "stream",
     "text": [
      "                   all       2346       6352      0.642      0.539      0.603      0.313      0.317      0.208      0.135     0.0294\n",
      "\n",
      "      Epoch    GPU_mem   box_loss  pose_loss  kobj_loss   cls_loss   dfl_loss  Instances       Size\n"
     ]
    },
    {
     "name": "stderr",
     "output_type": "stream",
     "text": [
      "      3/100      4.38G      1.636      6.875     0.4937        1.7      1.943        116        640: \n",
      "                 Class     Images  Instances      Box(P          R      mAP50  mAP50-95)     Pose(P  \n"
     ]
    },
    {
     "name": "stdout",
     "output_type": "stream",
     "text": [
      "                   all       2346       6352      0.695      0.587      0.669      0.377      0.453      0.315      0.258     0.0666\n",
      "\n",
      "      Epoch    GPU_mem   box_loss  pose_loss  kobj_loss   cls_loss   dfl_loss  Instances       Size\n"
     ]
    },
    {
     "name": "stderr",
     "output_type": "stream",
     "text": [
      "      4/100      4.37G      1.523      6.296     0.4644      1.552      1.788        146        640: \n",
      "                 Class     Images  Instances      Box(P          R      mAP50  mAP50-95)     Pose(P  \n"
     ]
    },
    {
     "name": "stdout",
     "output_type": "stream",
     "text": [
      "                   all       2346       6352      0.744      0.639      0.735      0.439      0.567      0.422      0.386      0.117\n",
      "\n",
      "      Epoch    GPU_mem   box_loss  pose_loss  kobj_loss   cls_loss   dfl_loss  Instances       Size\n"
     ]
    },
    {
     "name": "stderr",
     "output_type": "stream",
     "text": [
      "      5/100      4.32G      1.432      5.893     0.4443      1.432      1.686        103        640: \n",
      "                 Class     Images  Instances      Box(P          R      mAP50  mAP50-95)     Pose(P  \n"
     ]
    },
    {
     "name": "stdout",
     "output_type": "stream",
     "text": [
      "                   all       2346       6352      0.761       0.67       0.76      0.479      0.633      0.449      0.435      0.144\n",
      "\n",
      "      Epoch    GPU_mem   box_loss  pose_loss  kobj_loss   cls_loss   dfl_loss  Instances       Size\n"
     ]
    },
    {
     "name": "stderr",
     "output_type": "stream",
     "text": [
      "      6/100      4.33G      1.378      5.651      0.432      1.354      1.621        121        640: \n",
      "                 Class     Images  Instances      Box(P          R      mAP50  mAP50-95)     Pose(P  \n"
     ]
    },
    {
     "name": "stdout",
     "output_type": "stream",
     "text": [
      "                   all       2346       6352      0.795      0.676      0.782      0.506      0.659      0.496      0.489       0.17\n",
      "\n",
      "      Epoch    GPU_mem   box_loss  pose_loss  kobj_loss   cls_loss   dfl_loss  Instances       Size\n"
     ]
    },
    {
     "name": "stderr",
     "output_type": "stream",
     "text": [
      "      7/100       4.3G      1.339      5.473     0.4243      1.301      1.576         97        640: \n",
      "                 Class     Images  Instances      Box(P          R      mAP50  mAP50-95)     Pose(P  "
     ]
    },
    {
     "name": "stdout",
     "output_type": "stream",
     "text": [
      "                   all       2346       6352      0.793      0.701      0.796      0.522      0.676      0.528      0.521      0.192\n"
     ]
    },
    {
     "name": "stderr",
     "output_type": "stream",
     "text": [
      "\n"
     ]
    },
    {
     "name": "stdout",
     "output_type": "stream",
     "text": [
      "\n",
      "      Epoch    GPU_mem   box_loss  pose_loss  kobj_loss   cls_loss   dfl_loss  Instances       Size\n"
     ]
    },
    {
     "name": "stderr",
     "output_type": "stream",
     "text": [
      "      8/100      4.32G      1.315      5.356     0.4174      1.268      1.548        145        640: \n",
      "                 Class     Images  Instances      Box(P          R      mAP50  mAP50-95)     Pose(P  \n"
     ]
    },
    {
     "name": "stdout",
     "output_type": "stream",
     "text": [
      "                   all       2346       6352      0.809      0.705      0.811      0.541      0.703       0.54      0.548      0.213\n",
      "\n",
      "      Epoch    GPU_mem   box_loss  pose_loss  kobj_loss   cls_loss   dfl_loss  Instances       Size\n"
     ]
    },
    {
     "name": "stderr",
     "output_type": "stream",
     "text": [
      "      9/100       4.3G      1.292       5.24     0.4126      1.234       1.52        122        640: \n",
      "                 Class     Images  Instances      Box(P          R      mAP50  mAP50-95)     Pose(P  "
     ]
    },
    {
     "name": "stdout",
     "output_type": "stream",
     "text": [
      "                   all       2346       6352      0.808      0.715      0.817      0.553      0.708      0.557      0.566      0.225\n"
     ]
    },
    {
     "name": "stderr",
     "output_type": "stream",
     "text": [
      "\n"
     ]
    },
    {
     "name": "stdout",
     "output_type": "stream",
     "text": [
      "\n",
      "      Epoch    GPU_mem   box_loss  pose_loss  kobj_loss   cls_loss   dfl_loss  Instances       Size\n"
     ]
    },
    {
     "name": "stderr",
     "output_type": "stream",
     "text": [
      "     10/100      4.31G      1.276      5.156     0.4087      1.212      1.501        117        640: \n",
      "                 Class     Images  Instances      Box(P          R      mAP50  mAP50-95)     Pose(P  "
     ]
    },
    {
     "name": "stdout",
     "output_type": "stream",
     "text": [
      "                   all       2346       6352      0.802      0.728      0.822      0.561      0.718      0.571      0.581      0.236\n"
     ]
    },
    {
     "name": "stderr",
     "output_type": "stream",
     "text": [
      "\n"
     ]
    },
    {
     "name": "stdout",
     "output_type": "stream",
     "text": [
      "\n",
      "      Epoch    GPU_mem   box_loss  pose_loss  kobj_loss   cls_loss   dfl_loss  Instances       Size\n"
     ]
    },
    {
     "name": "stderr",
     "output_type": "stream",
     "text": [
      "     11/100       4.3G      1.257      5.091     0.4043       1.19      1.483        131        640: \n",
      "                 Class     Images  Instances      Box(P          R      mAP50  mAP50-95)     Pose(P  \n"
     ]
    },
    {
     "name": "stdout",
     "output_type": "stream",
     "text": [
      "                   all       2346       6352      0.808      0.735       0.83      0.572      0.729      0.583      0.598      0.247\n",
      "\n",
      "      Epoch    GPU_mem   box_loss  pose_loss  kobj_loss   cls_loss   dfl_loss  Instances       Size\n"
     ]
    },
    {
     "name": "stderr",
     "output_type": "stream",
     "text": [
      "     12/100      4.31G      1.241      4.999     0.4022       1.17      1.464        123        640: \n",
      "                 Class     Images  Instances      Box(P          R      mAP50  mAP50-95)     Pose(P  \n"
     ]
    },
    {
     "name": "stdout",
     "output_type": "stream",
     "text": [
      "                   all       2346       6352      0.806      0.743      0.834      0.577      0.731      0.594      0.609      0.255\n",
      "\n",
      "      Epoch    GPU_mem   box_loss  pose_loss  kobj_loss   cls_loss   dfl_loss  Instances       Size\n"
     ]
    },
    {
     "name": "stderr",
     "output_type": "stream",
     "text": [
      "     13/100       4.3G      1.234      4.948     0.3995      1.155      1.452        120        640: \n",
      "                 Class     Images  Instances      Box(P          R      mAP50  mAP50-95)     Pose(P  "
     ]
    },
    {
     "name": "stdout",
     "output_type": "stream",
     "text": [
      "                   all       2346       6352      0.819      0.745      0.838      0.585       0.74      0.601      0.617      0.264\n"
     ]
    },
    {
     "name": "stderr",
     "output_type": "stream",
     "text": [
      "\n"
     ]
    },
    {
     "name": "stdout",
     "output_type": "stream",
     "text": [
      "\n",
      "      Epoch    GPU_mem   box_loss  pose_loss  kobj_loss   cls_loss   dfl_loss  Instances       Size\n"
     ]
    },
    {
     "name": "stderr",
     "output_type": "stream",
     "text": [
      "     14/100      4.35G       1.22      4.878     0.3962      1.142      1.439        126        640: \n",
      "                 Class     Images  Instances      Box(P          R      mAP50  mAP50-95)     Pose(P  "
     ]
    },
    {
     "name": "stdout",
     "output_type": "stream",
     "text": [
      "                   all       2346       6352      0.817      0.747      0.841      0.589       0.74      0.604      0.622      0.271\n"
     ]
    },
    {
     "name": "stderr",
     "output_type": "stream",
     "text": [
      "\n"
     ]
    },
    {
     "name": "stdout",
     "output_type": "stream",
     "text": [
      "\n",
      "      Epoch    GPU_mem   box_loss  pose_loss  kobj_loss   cls_loss   dfl_loss  Instances       Size\n"
     ]
    },
    {
     "name": "stderr",
     "output_type": "stream",
     "text": [
      "     15/100       4.3G      1.211      4.848     0.3947      1.131      1.429         99        640: \n",
      "                 Class     Images  Instances      Box(P          R      mAP50  mAP50-95)     Pose(P  "
     ]
    },
    {
     "name": "stdout",
     "output_type": "stream",
     "text": [
      "                   all       2346       6352      0.817      0.752      0.843      0.594      0.743      0.612      0.631      0.277\n"
     ]
    },
    {
     "name": "stderr",
     "output_type": "stream",
     "text": [
      "\n"
     ]
    },
    {
     "name": "stdout",
     "output_type": "stream",
     "text": [
      "\n",
      "      Epoch    GPU_mem   box_loss  pose_loss  kobj_loss   cls_loss   dfl_loss  Instances       Size\n"
     ]
    },
    {
     "name": "stderr",
     "output_type": "stream",
     "text": [
      "     16/100       4.3G      1.201      4.788     0.3929      1.116      1.416        114        640: \n",
      "                 Class     Images  Instances      Box(P          R      mAP50  mAP50-95)     Pose(P  "
     ]
    },
    {
     "name": "stdout",
     "output_type": "stream",
     "text": [
      "                   all       2346       6352      0.827      0.747      0.846      0.597      0.746      0.611      0.633      0.281\n"
     ]
    },
    {
     "name": "stderr",
     "output_type": "stream",
     "text": [
      "\n"
     ]
    },
    {
     "name": "stdout",
     "output_type": "stream",
     "text": [
      "\n",
      "      Epoch    GPU_mem   box_loss  pose_loss  kobj_loss   cls_loss   dfl_loss  Instances       Size\n"
     ]
    },
    {
     "name": "stderr",
     "output_type": "stream",
     "text": [
      "     17/100      4.32G      1.195       4.75     0.3912       1.11       1.41        174        640: \n",
      "                 Class     Images  Instances      Box(P          R      mAP50  mAP50-95)     Pose(P  "
     ]
    },
    {
     "name": "stdout",
     "output_type": "stream",
     "text": [
      "                   all       2346       6352      0.823      0.749      0.847        0.6       0.75      0.614      0.637      0.286\n"
     ]
    },
    {
     "name": "stderr",
     "output_type": "stream",
     "text": [
      "\n"
     ]
    },
    {
     "name": "stdout",
     "output_type": "stream",
     "text": [
      "\n",
      "      Epoch    GPU_mem   box_loss  pose_loss  kobj_loss   cls_loss   dfl_loss  Instances       Size\n"
     ]
    },
    {
     "name": "stderr",
     "output_type": "stream",
     "text": [
      "     18/100      4.43G      1.191      4.716     0.3885      1.099      1.404        105        640: \n",
      "                 Class     Images  Instances      Box(P          R      mAP50  mAP50-95)     Pose(P  "
     ]
    },
    {
     "name": "stdout",
     "output_type": "stream",
     "text": [
      "                   all       2346       6352      0.821      0.753      0.848      0.602      0.756      0.615      0.641       0.29\n"
     ]
    },
    {
     "name": "stderr",
     "output_type": "stream",
     "text": [
      "\n"
     ]
    },
    {
     "name": "stdout",
     "output_type": "stream",
     "text": [
      "\n",
      "      Epoch    GPU_mem   box_loss  pose_loss  kobj_loss   cls_loss   dfl_loss  Instances       Size\n"
     ]
    },
    {
     "name": "stderr",
     "output_type": "stream",
     "text": [
      "     19/100       4.3G      1.181      4.674     0.3873      1.092      1.393        117        640: \n",
      "                 Class     Images  Instances      Box(P          R      mAP50  mAP50-95)     Pose(P  "
     ]
    },
    {
     "name": "stdout",
     "output_type": "stream",
     "text": [
      "                   all       2346       6352      0.829      0.749       0.85      0.603      0.765      0.617      0.647      0.294\n"
     ]
    },
    {
     "name": "stderr",
     "output_type": "stream",
     "text": [
      "\n"
     ]
    },
    {
     "name": "stdout",
     "output_type": "stream",
     "text": [
      "\n",
      "      Epoch    GPU_mem   box_loss  pose_loss  kobj_loss   cls_loss   dfl_loss  Instances       Size\n"
     ]
    },
    {
     "name": "stderr",
     "output_type": "stream",
     "text": [
      "     20/100       4.3G      1.176      4.635     0.3863      1.083      1.386        138        640: \n",
      "                 Class     Images  Instances      Box(P          R      mAP50  mAP50-95)     Pose(P  "
     ]
    },
    {
     "name": "stdout",
     "output_type": "stream",
     "text": [
      "                   all       2346       6352      0.827      0.751      0.851      0.605      0.765       0.62      0.648      0.296\n"
     ]
    },
    {
     "name": "stderr",
     "output_type": "stream",
     "text": [
      "\n"
     ]
    },
    {
     "name": "stdout",
     "output_type": "stream",
     "text": [
      "\n",
      "      Epoch    GPU_mem   box_loss  pose_loss  kobj_loss   cls_loss   dfl_loss  Instances       Size\n"
     ]
    },
    {
     "name": "stderr",
     "output_type": "stream",
     "text": [
      "     21/100      4.33G      1.174      4.615     0.3836       1.08       1.38        123        640: \n",
      "                 Class     Images  Instances      Box(P          R      mAP50  mAP50-95)     Pose(P  "
     ]
    },
    {
     "name": "stdout",
     "output_type": "stream",
     "text": [
      "                   all       2346       6352      0.829      0.751      0.852      0.606      0.765      0.619      0.649      0.299\n"
     ]
    },
    {
     "name": "stderr",
     "output_type": "stream",
     "text": [
      "\n"
     ]
    },
    {
     "name": "stdout",
     "output_type": "stream",
     "text": [
      "\n",
      "      Epoch    GPU_mem   box_loss  pose_loss  kobj_loss   cls_loss   dfl_loss  Instances       Size\n"
     ]
    },
    {
     "name": "stderr",
     "output_type": "stream",
     "text": [
      "     22/100      4.31G      1.163      4.582     0.3827      1.074      1.373        114        640: \n",
      "                 Class     Images  Instances      Box(P          R      mAP50  mAP50-95)     Pose(P  "
     ]
    },
    {
     "name": "stdout",
     "output_type": "stream",
     "text": [
      "                   all       2346       6352      0.819      0.759      0.853      0.607      0.767      0.622      0.652      0.302\n"
     ]
    },
    {
     "name": "stderr",
     "output_type": "stream",
     "text": [
      "\n"
     ]
    },
    {
     "name": "stdout",
     "output_type": "stream",
     "text": [
      "\n",
      "      Epoch    GPU_mem   box_loss  pose_loss  kobj_loss   cls_loss   dfl_loss  Instances       Size\n"
     ]
    },
    {
     "name": "stderr",
     "output_type": "stream",
     "text": [
      "     23/100      4.29G      1.162      4.559     0.3817      1.068       1.37        107        640: \n",
      "                 Class     Images  Instances      Box(P          R      mAP50  mAP50-95)     Pose(P  "
     ]
    },
    {
     "name": "stdout",
     "output_type": "stream",
     "text": [
      "                   all       2346       6352      0.828      0.754      0.855      0.609      0.768      0.621      0.652      0.304\n"
     ]
    },
    {
     "name": "stderr",
     "output_type": "stream",
     "text": [
      "\n"
     ]
    },
    {
     "name": "stdout",
     "output_type": "stream",
     "text": [
      "\n",
      "      Epoch    GPU_mem   box_loss  pose_loss  kobj_loss   cls_loss   dfl_loss  Instances       Size\n"
     ]
    },
    {
     "name": "stderr",
     "output_type": "stream",
     "text": [
      "     24/100      4.29G      1.154      4.521     0.3806      1.056       1.36         99        640: \n",
      "                 Class     Images  Instances      Box(P          R      mAP50  mAP50-95)     Pose(P  "
     ]
    },
    {
     "name": "stdout",
     "output_type": "stream",
     "text": [
      "                   all       2346       6352      0.828      0.756      0.855       0.61      0.769      0.622      0.654      0.307\n"
     ]
    },
    {
     "name": "stderr",
     "output_type": "stream",
     "text": [
      "\n"
     ]
    },
    {
     "name": "stdout",
     "output_type": "stream",
     "text": [
      "\n",
      "      Epoch    GPU_mem   box_loss  pose_loss  kobj_loss   cls_loss   dfl_loss  Instances       Size\n"
     ]
    },
    {
     "name": "stderr",
     "output_type": "stream",
     "text": [
      "     25/100       4.3G      1.153      4.497     0.3799      1.058      1.359         90        640: \n",
      "                 Class     Images  Instances      Box(P          R      mAP50  mAP50-95)     Pose(P  "
     ]
    },
    {
     "name": "stdout",
     "output_type": "stream",
     "text": [
      "                   all       2346       6352       0.83      0.758      0.856      0.612       0.77      0.623      0.655      0.309\n"
     ]
    },
    {
     "name": "stderr",
     "output_type": "stream",
     "text": [
      "\n"
     ]
    },
    {
     "name": "stdout",
     "output_type": "stream",
     "text": [
      "\n",
      "      Epoch    GPU_mem   box_loss  pose_loss  kobj_loss   cls_loss   dfl_loss  Instances       Size\n"
     ]
    },
    {
     "name": "stderr",
     "output_type": "stream",
     "text": [
      "     26/100      4.25G       1.15      4.485     0.3786      1.049      1.354         89        640: \n",
      "                 Class     Images  Instances      Box(P          R      mAP50  mAP50-95)     Pose(P  "
     ]
    },
    {
     "name": "stdout",
     "output_type": "stream",
     "text": [
      "                   all       2346       6352      0.832      0.758      0.857      0.613      0.775       0.62      0.658      0.311\n"
     ]
    },
    {
     "name": "stderr",
     "output_type": "stream",
     "text": [
      "\n"
     ]
    },
    {
     "name": "stdout",
     "output_type": "stream",
     "text": [
      "\n",
      "      Epoch    GPU_mem   box_loss  pose_loss  kobj_loss   cls_loss   dfl_loss  Instances       Size\n"
     ]
    },
    {
     "name": "stderr",
     "output_type": "stream",
     "text": [
      "     27/100      4.32G      1.146       4.46     0.3772      1.046      1.352         81        640: \n",
      "                 Class     Images  Instances      Box(P          R      mAP50  mAP50-95)     Pose(P  "
     ]
    },
    {
     "name": "stdout",
     "output_type": "stream",
     "text": [
      "                   all       2346       6352       0.83      0.762      0.858      0.615      0.776      0.621      0.659      0.312\n"
     ]
    },
    {
     "name": "stderr",
     "output_type": "stream",
     "text": [
      "\n"
     ]
    },
    {
     "name": "stdout",
     "output_type": "stream",
     "text": [
      "\n",
      "      Epoch    GPU_mem   box_loss  pose_loss  kobj_loss   cls_loss   dfl_loss  Instances       Size\n"
     ]
    },
    {
     "name": "stderr",
     "output_type": "stream",
     "text": [
      "     28/100      4.32G      1.142      4.425     0.3757      1.041      1.343        137        640: \n",
      "                 Class     Images  Instances      Box(P          R      mAP50  mAP50-95)     Pose(P  "
     ]
    },
    {
     "name": "stdout",
     "output_type": "stream",
     "text": [
      "                   all       2346       6352       0.83      0.761      0.858      0.616      0.777      0.625      0.663      0.315\n"
     ]
    },
    {
     "name": "stderr",
     "output_type": "stream",
     "text": [
      "\n"
     ]
    },
    {
     "name": "stdout",
     "output_type": "stream",
     "text": [
      "\n",
      "      Epoch    GPU_mem   box_loss  pose_loss  kobj_loss   cls_loss   dfl_loss  Instances       Size\n"
     ]
    },
    {
     "name": "stderr",
     "output_type": "stream",
     "text": [
      "     29/100      4.29G      1.139      4.413      0.375      1.036      1.341        163        640: \n",
      "                 Class     Images  Instances      Box(P          R      mAP50  mAP50-95)     Pose(P  "
     ]
    },
    {
     "name": "stdout",
     "output_type": "stream",
     "text": [
      "                   all       2346       6352      0.824      0.765      0.858      0.617       0.78      0.627      0.666      0.318\n"
     ]
    },
    {
     "name": "stderr",
     "output_type": "stream",
     "text": [
      "\n"
     ]
    },
    {
     "name": "stdout",
     "output_type": "stream",
     "text": [
      "\n",
      "      Epoch    GPU_mem   box_loss  pose_loss  kobj_loss   cls_loss   dfl_loss  Instances       Size\n"
     ]
    },
    {
     "name": "stderr",
     "output_type": "stream",
     "text": [
      "     30/100       4.3G      1.136      4.394     0.3736      1.033      1.338        126        640: \n",
      "                 Class     Images  Instances      Box(P          R      mAP50  mAP50-95)     Pose(P  "
     ]
    },
    {
     "name": "stdout",
     "output_type": "stream",
     "text": [
      "                   all       2346       6352      0.824      0.765      0.858      0.617      0.779      0.628      0.671      0.321\n"
     ]
    },
    {
     "name": "stderr",
     "output_type": "stream",
     "text": [
      "\n"
     ]
    },
    {
     "name": "stdout",
     "output_type": "stream",
     "text": [
      "\n",
      "      Epoch    GPU_mem   box_loss  pose_loss  kobj_loss   cls_loss   dfl_loss  Instances       Size\n"
     ]
    },
    {
     "name": "stderr",
     "output_type": "stream",
     "text": [
      "     31/100      4.31G      1.133      4.358     0.3729      1.027      1.332        123        640: \n",
      "                 Class     Images  Instances      Box(P          R      mAP50  mAP50-95)     Pose(P  "
     ]
    },
    {
     "name": "stdout",
     "output_type": "stream",
     "text": [
      "                   all       2346       6352      0.828      0.764      0.859      0.618      0.781      0.629      0.672      0.323\n"
     ]
    },
    {
     "name": "stderr",
     "output_type": "stream",
     "text": [
      "\n"
     ]
    },
    {
     "name": "stdout",
     "output_type": "stream",
     "text": [
      "\n",
      "      Epoch    GPU_mem   box_loss  pose_loss  kobj_loss   cls_loss   dfl_loss  Instances       Size\n"
     ]
    },
    {
     "name": "stderr",
     "output_type": "stream",
     "text": [
      "     32/100      4.34G      1.126      4.363      0.372      1.024       1.33        104        640: \n",
      "                 Class     Images  Instances      Box(P          R      mAP50  mAP50-95)     Pose(P  "
     ]
    },
    {
     "name": "stdout",
     "output_type": "stream",
     "text": [
      "                   all       2346       6352      0.829      0.764       0.86      0.619      0.778      0.631      0.672      0.325\n"
     ]
    },
    {
     "name": "stderr",
     "output_type": "stream",
     "text": [
      "\n"
     ]
    },
    {
     "name": "stdout",
     "output_type": "stream",
     "text": [
      "\n",
      "      Epoch    GPU_mem   box_loss  pose_loss  kobj_loss   cls_loss   dfl_loss  Instances       Size\n"
     ]
    },
    {
     "name": "stderr",
     "output_type": "stream",
     "text": [
      "     33/100       4.3G      1.126       4.34     0.3711      1.019      1.325        117        640: \n",
      "                 Class     Images  Instances      Box(P          R      mAP50  mAP50-95)     Pose(P  "
     ]
    },
    {
     "name": "stdout",
     "output_type": "stream",
     "text": [
      "                   all       2346       6352      0.825      0.768      0.861       0.62       0.78      0.633      0.675      0.327\n"
     ]
    },
    {
     "name": "stderr",
     "output_type": "stream",
     "text": [
      "\n"
     ]
    },
    {
     "name": "stdout",
     "output_type": "stream",
     "text": [
      "\n",
      "      Epoch    GPU_mem   box_loss  pose_loss  kobj_loss   cls_loss   dfl_loss  Instances       Size\n"
     ]
    },
    {
     "name": "stderr",
     "output_type": "stream",
     "text": [
      "     34/100      4.34G      1.122      4.328     0.3707      1.017      1.322        109        640: \n",
      "                 Class     Images  Instances      Box(P          R      mAP50  mAP50-95)     Pose(P  "
     ]
    },
    {
     "name": "stdout",
     "output_type": "stream",
     "text": [
      "                   all       2346       6352      0.835      0.763      0.861      0.621      0.786      0.634      0.678       0.33\n"
     ]
    },
    {
     "name": "stderr",
     "output_type": "stream",
     "text": [
      "\n"
     ]
    },
    {
     "name": "stdout",
     "output_type": "stream",
     "text": [
      "\n",
      "      Epoch    GPU_mem   box_loss  pose_loss  kobj_loss   cls_loss   dfl_loss  Instances       Size\n"
     ]
    },
    {
     "name": "stderr",
     "output_type": "stream",
     "text": [
      "     35/100      4.29G      1.122      4.313     0.3699      1.015       1.32        123        640: \n",
      "                 Class     Images  Instances      Box(P          R      mAP50  mAP50-95)     Pose(P  "
     ]
    },
    {
     "name": "stdout",
     "output_type": "stream",
     "text": [
      "                   all       2346       6352      0.835      0.764      0.862      0.622      0.785      0.636      0.678      0.332\n"
     ]
    },
    {
     "name": "stderr",
     "output_type": "stream",
     "text": [
      "\n"
     ]
    },
    {
     "name": "stdout",
     "output_type": "stream",
     "text": [
      "\n",
      "      Epoch    GPU_mem   box_loss  pose_loss  kobj_loss   cls_loss   dfl_loss  Instances       Size\n"
     ]
    },
    {
     "name": "stderr",
     "output_type": "stream",
     "text": [
      "     36/100      4.29G      1.117      4.293     0.3685      1.009      1.317        112        640: \n",
      "                 Class     Images  Instances      Box(P          R      mAP50  mAP50-95)     Pose(P  "
     ]
    },
    {
     "name": "stdout",
     "output_type": "stream",
     "text": [
      "                   all       2346       6352      0.834      0.765      0.862      0.623      0.788      0.637      0.681      0.334\n"
     ]
    },
    {
     "name": "stderr",
     "output_type": "stream",
     "text": [
      "\n"
     ]
    },
    {
     "name": "stdout",
     "output_type": "stream",
     "text": [
      "\n",
      "      Epoch    GPU_mem   box_loss  pose_loss  kobj_loss   cls_loss   dfl_loss  Instances       Size\n"
     ]
    },
    {
     "name": "stderr",
     "output_type": "stream",
     "text": [
      "     37/100      4.29G      1.116      4.279     0.3681      1.005      1.314        103        640: \n",
      "                 Class     Images  Instances      Box(P          R      mAP50  mAP50-95)     Pose(P  "
     ]
    },
    {
     "name": "stdout",
     "output_type": "stream",
     "text": [
      "                   all       2346       6352      0.832      0.766      0.863      0.623      0.783       0.64      0.682      0.337\n"
     ]
    },
    {
     "name": "stderr",
     "output_type": "stream",
     "text": [
      "\n"
     ]
    },
    {
     "name": "stdout",
     "output_type": "stream",
     "text": [
      "\n",
      "      Epoch    GPU_mem   box_loss  pose_loss  kobj_loss   cls_loss   dfl_loss  Instances       Size\n"
     ]
    },
    {
     "name": "stderr",
     "output_type": "stream",
     "text": [
      "     38/100       4.3G      1.114      4.262     0.3676      1.004      1.312        129        640: \n",
      "                 Class     Images  Instances      Box(P          R      mAP50  mAP50-95)     Pose(P  "
     ]
    },
    {
     "name": "stdout",
     "output_type": "stream",
     "text": [
      "                   all       2346       6352      0.833      0.768      0.863      0.625      0.783      0.642      0.685       0.34\n"
     ]
    },
    {
     "name": "stderr",
     "output_type": "stream",
     "text": [
      "\n"
     ]
    },
    {
     "name": "stdout",
     "output_type": "stream",
     "text": [
      "\n",
      "      Epoch    GPU_mem   box_loss  pose_loss  kobj_loss   cls_loss   dfl_loss  Instances       Size\n"
     ]
    },
    {
     "name": "stderr",
     "output_type": "stream",
     "text": [
      "     39/100      4.29G      1.113       4.23     0.3661      1.004      1.312        136        640: \n",
      "                 Class     Images  Instances      Box(P          R      mAP50  mAP50-95)     Pose(P  "
     ]
    },
    {
     "name": "stdout",
     "output_type": "stream",
     "text": [
      "                   all       2346       6352      0.831      0.768      0.863      0.626      0.781      0.646      0.687      0.342\n"
     ]
    },
    {
     "name": "stderr",
     "output_type": "stream",
     "text": [
      "\n"
     ]
    },
    {
     "name": "stdout",
     "output_type": "stream",
     "text": [
      "\n",
      "      Epoch    GPU_mem   box_loss  pose_loss  kobj_loss   cls_loss   dfl_loss  Instances       Size\n"
     ]
    },
    {
     "name": "stderr",
     "output_type": "stream",
     "text": [
      "     40/100      4.29G      1.109      4.227      0.366     0.9976      1.307        106        640: \n",
      "                 Class     Images  Instances      Box(P          R      mAP50  mAP50-95)     Pose(P  "
     ]
    },
    {
     "name": "stdout",
     "output_type": "stream",
     "text": [
      "                   all       2346       6352      0.832      0.768      0.864      0.627       0.78      0.647      0.689      0.344\n"
     ]
    },
    {
     "name": "stderr",
     "output_type": "stream",
     "text": [
      "\n"
     ]
    },
    {
     "name": "stdout",
     "output_type": "stream",
     "text": [
      "\n",
      "      Epoch    GPU_mem   box_loss  pose_loss  kobj_loss   cls_loss   dfl_loss  Instances       Size\n"
     ]
    },
    {
     "name": "stderr",
     "output_type": "stream",
     "text": [
      "     41/100      4.28G      1.106      4.217     0.3654      0.996      1.305        106        640: \n",
      "                 Class     Images  Instances      Box(P          R      mAP50  mAP50-95)     Pose(P  "
     ]
    },
    {
     "name": "stdout",
     "output_type": "stream",
     "text": [
      "                   all       2346       6352      0.832      0.769      0.865      0.628       0.78      0.649      0.689      0.345\n"
     ]
    },
    {
     "name": "stderr",
     "output_type": "stream",
     "text": [
      "\n"
     ]
    },
    {
     "name": "stdout",
     "output_type": "stream",
     "text": [
      "\n",
      "      Epoch    GPU_mem   box_loss  pose_loss  kobj_loss   cls_loss   dfl_loss  Instances       Size\n"
     ]
    },
    {
     "name": "stderr",
     "output_type": "stream",
     "text": [
      "     42/100      4.24G      1.104      4.208     0.3643       0.99      1.302        117        640: \n",
      "                 Class     Images  Instances      Box(P          R      mAP50  mAP50-95)     Pose(P  "
     ]
    },
    {
     "name": "stdout",
     "output_type": "stream",
     "text": [
      "                   all       2346       6352      0.832      0.771      0.865      0.629      0.778      0.652       0.69      0.348\n"
     ]
    },
    {
     "name": "stderr",
     "output_type": "stream",
     "text": [
      "\n"
     ]
    },
    {
     "name": "stdout",
     "output_type": "stream",
     "text": [
      "\n",
      "      Epoch    GPU_mem   box_loss  pose_loss  kobj_loss   cls_loss   dfl_loss  Instances       Size\n"
     ]
    },
    {
     "name": "stderr",
     "output_type": "stream",
     "text": [
      "     43/100      4.32G      1.104      4.197      0.364     0.9925        1.3        123        640: \n",
      "                 Class     Images  Instances      Box(P          R      mAP50  mAP50-95)     Pose(P  "
     ]
    },
    {
     "name": "stdout",
     "output_type": "stream",
     "text": [
      "                   all       2346       6352      0.834      0.771      0.866       0.63       0.78      0.654      0.693      0.349\n"
     ]
    },
    {
     "name": "stderr",
     "output_type": "stream",
     "text": [
      "\n"
     ]
    },
    {
     "name": "stdout",
     "output_type": "stream",
     "text": [
      "\n",
      "      Epoch    GPU_mem   box_loss  pose_loss  kobj_loss   cls_loss   dfl_loss  Instances       Size\n"
     ]
    },
    {
     "name": "stderr",
     "output_type": "stream",
     "text": [
      "     44/100       4.3G      1.099      4.171     0.3624     0.9853      1.296        144        640: \n",
      "                 Class     Images  Instances      Box(P          R      mAP50  mAP50-95)     Pose(P  "
     ]
    },
    {
     "name": "stdout",
     "output_type": "stream",
     "text": [
      "                   all       2346       6352      0.834      0.771      0.866      0.631      0.785      0.653      0.696      0.351\n"
     ]
    },
    {
     "name": "stderr",
     "output_type": "stream",
     "text": [
      "\n"
     ]
    },
    {
     "name": "stdout",
     "output_type": "stream",
     "text": [
      "\n",
      "      Epoch    GPU_mem   box_loss  pose_loss  kobj_loss   cls_loss   dfl_loss  Instances       Size\n"
     ]
    },
    {
     "name": "stderr",
     "output_type": "stream",
     "text": [
      "     45/100      4.31G      1.096      4.167     0.3625     0.9838      1.294         95        640: \n",
      "                 Class     Images  Instances      Box(P          R      mAP50  mAP50-95)     Pose(P  "
     ]
    },
    {
     "name": "stdout",
     "output_type": "stream",
     "text": [
      "                   all       2346       6352       0.84      0.768      0.867      0.632      0.785      0.655      0.697      0.354\n"
     ]
    },
    {
     "name": "stderr",
     "output_type": "stream",
     "text": [
      "\n"
     ]
    },
    {
     "name": "stdout",
     "output_type": "stream",
     "text": [
      "\n",
      "      Epoch    GPU_mem   box_loss  pose_loss  kobj_loss   cls_loss   dfl_loss  Instances       Size\n"
     ]
    },
    {
     "name": "stderr",
     "output_type": "stream",
     "text": [
      "     46/100       4.3G      1.094      4.143     0.3612     0.9792      1.291        103        640: \n",
      "                 Class     Images  Instances      Box(P          R      mAP50  mAP50-95)     Pose(P  "
     ]
    },
    {
     "name": "stdout",
     "output_type": "stream",
     "text": [
      "                   all       2346       6352      0.837      0.771      0.867      0.633       0.79      0.656      0.701      0.356\n"
     ]
    },
    {
     "name": "stderr",
     "output_type": "stream",
     "text": [
      "\n"
     ]
    },
    {
     "name": "stdout",
     "output_type": "stream",
     "text": [
      "\n",
      "      Epoch    GPU_mem   box_loss  pose_loss  kobj_loss   cls_loss   dfl_loss  Instances       Size\n"
     ]
    },
    {
     "name": "stderr",
     "output_type": "stream",
     "text": [
      "     47/100      4.28G      1.094      4.142     0.3615      0.978       1.29        109        640: \n",
      "                 Class     Images  Instances      Box(P          R      mAP50  mAP50-95)     Pose(P  "
     ]
    },
    {
     "name": "stdout",
     "output_type": "stream",
     "text": [
      "                   all       2346       6352      0.842      0.767      0.868      0.634      0.792      0.658      0.703      0.358\n"
     ]
    },
    {
     "name": "stderr",
     "output_type": "stream",
     "text": [
      "\n"
     ]
    },
    {
     "name": "stdout",
     "output_type": "stream",
     "text": [
      "\n",
      "      Epoch    GPU_mem   box_loss  pose_loss  kobj_loss   cls_loss   dfl_loss  Instances       Size\n"
     ]
    },
    {
     "name": "stderr",
     "output_type": "stream",
     "text": [
      "     48/100      4.33G      1.094      4.126     0.3601      0.976      1.291         87        640: \n",
      "                 Class     Images  Instances      Box(P          R      mAP50  mAP50-95)     Pose(P  "
     ]
    },
    {
     "name": "stdout",
     "output_type": "stream",
     "text": [
      "                   all       2346       6352      0.842      0.769      0.868      0.635      0.793      0.662      0.705       0.36\n"
     ]
    },
    {
     "name": "stderr",
     "output_type": "stream",
     "text": [
      "\n"
     ]
    },
    {
     "name": "stdout",
     "output_type": "stream",
     "text": [
      "\n",
      "      Epoch    GPU_mem   box_loss  pose_loss  kobj_loss   cls_loss   dfl_loss  Instances       Size\n"
     ]
    },
    {
     "name": "stderr",
     "output_type": "stream",
     "text": [
      "     49/100      4.28G      1.088       4.11     0.3599     0.9726      1.287        122        640: \n",
      "                 Class     Images  Instances      Box(P          R      mAP50  mAP50-95)     Pose(P  "
     ]
    },
    {
     "name": "stdout",
     "output_type": "stream",
     "text": [
      "                   all       2346       6352      0.842      0.772      0.869      0.636       0.79      0.667      0.706      0.361\n"
     ]
    },
    {
     "name": "stderr",
     "output_type": "stream",
     "text": [
      "\n"
     ]
    },
    {
     "name": "stdout",
     "output_type": "stream",
     "text": [
      "\n",
      "      Epoch    GPU_mem   box_loss  pose_loss  kobj_loss   cls_loss   dfl_loss  Instances       Size\n"
     ]
    },
    {
     "name": "stderr",
     "output_type": "stream",
     "text": [
      "     50/100      4.32G      1.091       4.09     0.3586     0.9688      1.285        112        640: \n",
      "                 Class     Images  Instances      Box(P          R      mAP50  mAP50-95)     Pose(P  "
     ]
    },
    {
     "name": "stdout",
     "output_type": "stream",
     "text": [
      "                   all       2346       6352      0.843      0.772      0.869      0.637      0.788       0.67      0.708      0.363\n"
     ]
    },
    {
     "name": "stderr",
     "output_type": "stream",
     "text": [
      "\n"
     ]
    },
    {
     "name": "stdout",
     "output_type": "stream",
     "text": [
      "\n",
      "      Epoch    GPU_mem   box_loss  pose_loss  kobj_loss   cls_loss   dfl_loss  Instances       Size\n"
     ]
    },
    {
     "name": "stderr",
     "output_type": "stream",
     "text": [
      "     51/100      4.33G      1.084      4.086     0.3581     0.9677      1.282        115        640: \n",
      "                 Class     Images  Instances      Box(P          R      mAP50  mAP50-95)     Pose(P  "
     ]
    },
    {
     "name": "stdout",
     "output_type": "stream",
     "text": [
      "                   all       2346       6352      0.841      0.772      0.869      0.638      0.789      0.669      0.707      0.365\n"
     ]
    },
    {
     "name": "stderr",
     "output_type": "stream",
     "text": [
      "\n"
     ]
    },
    {
     "name": "stdout",
     "output_type": "stream",
     "text": [
      "\n",
      "      Epoch    GPU_mem   box_loss  pose_loss  kobj_loss   cls_loss   dfl_loss  Instances       Size\n"
     ]
    },
    {
     "name": "stderr",
     "output_type": "stream",
     "text": [
      "     52/100       4.3G       1.08      4.062     0.3572     0.9623      1.281        136        640: \n",
      "                 Class     Images  Instances      Box(P          R      mAP50  mAP50-95)     Pose(P  "
     ]
    },
    {
     "name": "stdout",
     "output_type": "stream",
     "text": [
      "                   all       2346       6352      0.841      0.772       0.87      0.639      0.791      0.669      0.709      0.367\n"
     ]
    },
    {
     "name": "stderr",
     "output_type": "stream",
     "text": [
      "\n"
     ]
    },
    {
     "name": "stdout",
     "output_type": "stream",
     "text": [
      "\n",
      "      Epoch    GPU_mem   box_loss  pose_loss  kobj_loss   cls_loss   dfl_loss  Instances       Size\n"
     ]
    },
    {
     "name": "stderr",
     "output_type": "stream",
     "text": [
      "     53/100      4.29G      1.082      4.054     0.3569     0.9632       1.28        107        640: \n",
      "                 Class     Images  Instances      Box(P          R      mAP50  mAP50-95)     Pose(P  "
     ]
    },
    {
     "name": "stdout",
     "output_type": "stream",
     "text": [
      "                   all       2346       6352      0.844      0.772      0.871       0.64      0.791       0.67      0.709      0.369\n"
     ]
    },
    {
     "name": "stderr",
     "output_type": "stream",
     "text": [
      "\n"
     ]
    },
    {
     "name": "stdout",
     "output_type": "stream",
     "text": [
      "\n",
      "      Epoch    GPU_mem   box_loss  pose_loss  kobj_loss   cls_loss   dfl_loss  Instances       Size\n"
     ]
    },
    {
     "name": "stderr",
     "output_type": "stream",
     "text": [
      "     54/100      4.29G      1.081      4.051     0.3559     0.9587      1.278        119        640: \n",
      "                 Class     Images  Instances      Box(P          R      mAP50  mAP50-95)     Pose(P  "
     ]
    },
    {
     "name": "stdout",
     "output_type": "stream",
     "text": [
      "                   all       2346       6352      0.843      0.775      0.871       0.64       0.79      0.673      0.712      0.371\n"
     ]
    },
    {
     "name": "stderr",
     "output_type": "stream",
     "text": [
      "\n"
     ]
    },
    {
     "name": "stdout",
     "output_type": "stream",
     "text": [
      "\n",
      "      Epoch    GPU_mem   box_loss  pose_loss  kobj_loss   cls_loss   dfl_loss  Instances       Size\n"
     ]
    },
    {
     "name": "stderr",
     "output_type": "stream",
     "text": [
      "     55/100      4.28G      1.079      4.037     0.3564     0.9569      1.276        108        640: \n",
      "                 Class     Images  Instances      Box(P          R      mAP50  mAP50-95)     Pose(P  "
     ]
    },
    {
     "name": "stdout",
     "output_type": "stream",
     "text": [
      "                   all       2346       6352      0.843      0.776      0.872      0.641      0.791      0.672      0.711      0.372\n"
     ]
    },
    {
     "name": "stderr",
     "output_type": "stream",
     "text": [
      "\n"
     ]
    },
    {
     "name": "stdout",
     "output_type": "stream",
     "text": [
      "\n",
      "      Epoch    GPU_mem   box_loss  pose_loss  kobj_loss   cls_loss   dfl_loss  Instances       Size\n"
     ]
    },
    {
     "name": "stderr",
     "output_type": "stream",
     "text": [
      "     56/100      4.32G      1.076      4.012      0.355     0.9551      1.276        107        640: \n",
      "                 Class     Images  Instances      Box(P          R      mAP50  mAP50-95)     Pose(P  "
     ]
    },
    {
     "name": "stdout",
     "output_type": "stream",
     "text": [
      "                   all       2346       6352      0.841      0.778      0.872      0.641      0.792      0.673      0.713      0.374\n"
     ]
    },
    {
     "name": "stderr",
     "output_type": "stream",
     "text": [
      "\n"
     ]
    },
    {
     "name": "stdout",
     "output_type": "stream",
     "text": [
      "\n",
      "      Epoch    GPU_mem   box_loss  pose_loss  kobj_loss   cls_loss   dfl_loss  Instances       Size\n"
     ]
    },
    {
     "name": "stderr",
     "output_type": "stream",
     "text": [
      "     57/100      4.23G      1.072      4.007     0.3548     0.9521       1.27        143        640: \n",
      "                 Class     Images  Instances      Box(P          R      mAP50  mAP50-95)     Pose(P  "
     ]
    },
    {
     "name": "stdout",
     "output_type": "stream",
     "text": [
      "                   all       2346       6352      0.841      0.779      0.873      0.642      0.792      0.675      0.715      0.376\n"
     ]
    },
    {
     "name": "stderr",
     "output_type": "stream",
     "text": [
      "\n"
     ]
    },
    {
     "name": "stdout",
     "output_type": "stream",
     "text": [
      "\n",
      "      Epoch    GPU_mem   box_loss  pose_loss  kobj_loss   cls_loss   dfl_loss  Instances       Size\n"
     ]
    },
    {
     "name": "stderr",
     "output_type": "stream",
     "text": [
      "     58/100       4.3G       1.07      3.994     0.3541     0.9449       1.27        113        640: \n",
      "                 Class     Images  Instances      Box(P          R      mAP50  mAP50-95)     Pose(P  "
     ]
    },
    {
     "name": "stdout",
     "output_type": "stream",
     "text": [
      "                   all       2346       6352      0.841       0.78      0.873      0.643      0.795      0.676      0.716      0.378\n"
     ]
    },
    {
     "name": "stderr",
     "output_type": "stream",
     "text": [
      "\n"
     ]
    },
    {
     "name": "stdout",
     "output_type": "stream",
     "text": [
      "\n",
      "      Epoch    GPU_mem   box_loss  pose_loss  kobj_loss   cls_loss   dfl_loss  Instances       Size\n"
     ]
    },
    {
     "name": "stderr",
     "output_type": "stream",
     "text": [
      "     59/100      4.23G       1.07      4.001     0.3537     0.9468      1.267        125        640: \n",
      "                 Class     Images  Instances      Box(P          R      mAP50  mAP50-95)     Pose(P  "
     ]
    },
    {
     "name": "stdout",
     "output_type": "stream",
     "text": [
      "                   all       2346       6352      0.843       0.78      0.874      0.644      0.798      0.677      0.718       0.38\n"
     ]
    },
    {
     "name": "stderr",
     "output_type": "stream",
     "text": [
      "\n"
     ]
    },
    {
     "name": "stdout",
     "output_type": "stream",
     "text": [
      "\n",
      "      Epoch    GPU_mem   box_loss  pose_loss  kobj_loss   cls_loss   dfl_loss  Instances       Size\n"
     ]
    },
    {
     "name": "stderr",
     "output_type": "stream",
     "text": [
      "     60/100      4.24G      1.065      3.972     0.3525     0.9416      1.265        119        640: \n",
      "                 Class     Images  Instances      Box(P          R      mAP50  mAP50-95)     Pose(P  "
     ]
    },
    {
     "name": "stdout",
     "output_type": "stream",
     "text": [
      "                   all       2346       6352      0.843      0.781      0.874      0.644      0.799      0.677      0.719      0.382\n"
     ]
    },
    {
     "name": "stderr",
     "output_type": "stream",
     "text": [
      "\n"
     ]
    },
    {
     "name": "stdout",
     "output_type": "stream",
     "text": [
      "\n",
      "      Epoch    GPU_mem   box_loss  pose_loss  kobj_loss   cls_loss   dfl_loss  Instances       Size\n"
     ]
    },
    {
     "name": "stderr",
     "output_type": "stream",
     "text": [
      "     61/100      4.27G      1.063      3.954     0.3524     0.9387      1.262        106        640: \n",
      "                 Class     Images  Instances      Box(P          R      mAP50  mAP50-95)     Pose(P  "
     ]
    },
    {
     "name": "stdout",
     "output_type": "stream",
     "text": [
      "                   all       2346       6352      0.842      0.782      0.875      0.645      0.804      0.678      0.723      0.384\n"
     ]
    },
    {
     "name": "stderr",
     "output_type": "stream",
     "text": [
      "\n"
     ]
    },
    {
     "name": "stdout",
     "output_type": "stream",
     "text": [
      "\n",
      "      Epoch    GPU_mem   box_loss  pose_loss  kobj_loss   cls_loss   dfl_loss  Instances       Size\n"
     ]
    },
    {
     "name": "stderr",
     "output_type": "stream",
     "text": [
      "     62/100      4.29G      1.063      3.953     0.3512     0.9413      1.262        140        640: \n",
      "                 Class     Images  Instances      Box(P          R      mAP50  mAP50-95)     Pose(P  "
     ]
    },
    {
     "name": "stdout",
     "output_type": "stream",
     "text": [
      "                   all       2346       6352      0.841      0.784      0.876      0.646      0.806      0.678      0.724      0.385\n"
     ]
    },
    {
     "name": "stderr",
     "output_type": "stream",
     "text": [
      "\n"
     ]
    },
    {
     "name": "stdout",
     "output_type": "stream",
     "text": [
      "\n",
      "      Epoch    GPU_mem   box_loss  pose_loss  kobj_loss   cls_loss   dfl_loss  Instances       Size\n"
     ]
    },
    {
     "name": "stderr",
     "output_type": "stream",
     "text": [
      "     63/100      4.23G      1.059      3.937     0.3503     0.9354      1.261        126        640: \n",
      "                 Class     Images  Instances      Box(P          R      mAP50  mAP50-95)     Pose(P  "
     ]
    },
    {
     "name": "stdout",
     "output_type": "stream",
     "text": [
      "                   all       2346       6352       0.84      0.785      0.876      0.647      0.811      0.675      0.726      0.386\n"
     ]
    },
    {
     "name": "stderr",
     "output_type": "stream",
     "text": [
      "\n"
     ]
    },
    {
     "name": "stdout",
     "output_type": "stream",
     "text": [
      "\n",
      "      Epoch    GPU_mem   box_loss  pose_loss  kobj_loss   cls_loss   dfl_loss  Instances       Size\n"
     ]
    },
    {
     "name": "stderr",
     "output_type": "stream",
     "text": [
      "     64/100      4.24G       1.06      3.921     0.3502     0.9314      1.258         81        640: \n",
      "                 Class     Images  Instances      Box(P          R      mAP50  mAP50-95)     Pose(P  "
     ]
    },
    {
     "name": "stdout",
     "output_type": "stream",
     "text": [
      "                   all       2346       6352      0.843      0.782      0.877      0.647      0.813      0.676      0.728      0.388\n"
     ]
    },
    {
     "name": "stderr",
     "output_type": "stream",
     "text": [
      "\n"
     ]
    },
    {
     "name": "stdout",
     "output_type": "stream",
     "text": [
      "\n",
      "      Epoch    GPU_mem   box_loss  pose_loss  kobj_loss   cls_loss   dfl_loss  Instances       Size\n"
     ]
    },
    {
     "name": "stderr",
     "output_type": "stream",
     "text": [
      "     65/100      4.33G      1.059       3.91       0.35     0.9283      1.258        103        640: \n",
      "                 Class     Images  Instances      Box(P          R      mAP50  mAP50-95)     Pose(P  "
     ]
    },
    {
     "name": "stdout",
     "output_type": "stream",
     "text": [
      "                   all       2346       6352      0.848      0.778      0.877      0.648      0.814      0.676      0.729       0.39\n"
     ]
    },
    {
     "name": "stderr",
     "output_type": "stream",
     "text": [
      "\n"
     ]
    },
    {
     "name": "stdout",
     "output_type": "stream",
     "text": [
      "\n",
      "      Epoch    GPU_mem   box_loss  pose_loss  kobj_loss   cls_loss   dfl_loss  Instances       Size\n"
     ]
    },
    {
     "name": "stderr",
     "output_type": "stream",
     "text": [
      "     66/100      4.34G      1.056      3.911     0.3488     0.9273      1.256         94        640: \n",
      "                 Class     Images  Instances      Box(P          R      mAP50  mAP50-95)     Pose(P  "
     ]
    },
    {
     "name": "stdout",
     "output_type": "stream",
     "text": [
      "                   all       2346       6352      0.848      0.778      0.878      0.648      0.816      0.675       0.73      0.392\n"
     ]
    },
    {
     "name": "stderr",
     "output_type": "stream",
     "text": [
      "\n"
     ]
    },
    {
     "name": "stdout",
     "output_type": "stream",
     "text": [
      "\n",
      "      Epoch    GPU_mem   box_loss  pose_loss  kobj_loss   cls_loss   dfl_loss  Instances       Size\n"
     ]
    },
    {
     "name": "stderr",
     "output_type": "stream",
     "text": [
      "     67/100      4.31G      1.055      3.883     0.3483     0.9249      1.255        129        640: \n",
      "                 Class     Images  Instances      Box(P          R      mAP50  mAP50-95)     Pose(P  "
     ]
    },
    {
     "name": "stdout",
     "output_type": "stream",
     "text": [
      "                   all       2346       6352      0.848      0.779      0.878      0.649      0.815      0.679      0.732      0.394\n"
     ]
    },
    {
     "name": "stderr",
     "output_type": "stream",
     "text": [
      "\n"
     ]
    },
    {
     "name": "stdout",
     "output_type": "stream",
     "text": [
      "\n",
      "      Epoch    GPU_mem   box_loss  pose_loss  kobj_loss   cls_loss   dfl_loss  Instances       Size\n"
     ]
    },
    {
     "name": "stderr",
     "output_type": "stream",
     "text": [
      "     68/100      4.29G      1.053      3.875     0.3477     0.9238      1.255        135        640: \n",
      "                 Class     Images  Instances      Box(P          R      mAP50  mAP50-95)     Pose(P  "
     ]
    },
    {
     "name": "stdout",
     "output_type": "stream",
     "text": [
      "                   all       2346       6352      0.847      0.779      0.879       0.65      0.813      0.681      0.733      0.395\n"
     ]
    },
    {
     "name": "stderr",
     "output_type": "stream",
     "text": [
      "\n"
     ]
    },
    {
     "name": "stdout",
     "output_type": "stream",
     "text": [
      "\n",
      "      Epoch    GPU_mem   box_loss  pose_loss  kobj_loss   cls_loss   dfl_loss  Instances       Size\n"
     ]
    },
    {
     "name": "stderr",
     "output_type": "stream",
     "text": [
      "     69/100      4.29G       1.05      3.869     0.3478     0.9185      1.253        159        640: \n",
      "                 Class     Images  Instances      Box(P          R      mAP50  mAP50-95)     Pose(P  "
     ]
    },
    {
     "name": "stdout",
     "output_type": "stream",
     "text": [
      "                   all       2346       6352      0.845      0.781      0.879      0.651      0.815       0.68      0.732      0.397\n"
     ]
    },
    {
     "name": "stderr",
     "output_type": "stream",
     "text": [
      "\n"
     ]
    },
    {
     "name": "stdout",
     "output_type": "stream",
     "text": [
      "\n",
      "      Epoch    GPU_mem   box_loss  pose_loss  kobj_loss   cls_loss   dfl_loss  Instances       Size\n"
     ]
    },
    {
     "name": "stderr",
     "output_type": "stream",
     "text": [
      "     70/100      4.34G      1.049      3.853     0.3466     0.9178       1.25        101        640: \n",
      "                 Class     Images  Instances      Box(P          R      mAP50  mAP50-95)     Pose(P  "
     ]
    },
    {
     "name": "stdout",
     "output_type": "stream",
     "text": [
      "                   all       2346       6352      0.845      0.782      0.879      0.652      0.815      0.684      0.735      0.399\n"
     ]
    },
    {
     "name": "stderr",
     "output_type": "stream",
     "text": [
      "\n"
     ]
    },
    {
     "name": "stdout",
     "output_type": "stream",
     "text": [
      "\n",
      "      Epoch    GPU_mem   box_loss  pose_loss  kobj_loss   cls_loss   dfl_loss  Instances       Size\n"
     ]
    },
    {
     "name": "stderr",
     "output_type": "stream",
     "text": [
      "     71/100      4.29G      1.043      3.827     0.3451      0.914      1.247         97        640: \n",
      "                 Class     Images  Instances      Box(P          R      mAP50  mAP50-95)     Pose(P  "
     ]
    },
    {
     "name": "stdout",
     "output_type": "stream",
     "text": [
      "                   all       2346       6352      0.846      0.783      0.879      0.653      0.817      0.683      0.737        0.4\n"
     ]
    },
    {
     "name": "stderr",
     "output_type": "stream",
     "text": [
      "\n"
     ]
    },
    {
     "name": "stdout",
     "output_type": "stream",
     "text": [
      "\n",
      "      Epoch    GPU_mem   box_loss  pose_loss  kobj_loss   cls_loss   dfl_loss  Instances       Size\n"
     ]
    },
    {
     "name": "stderr",
     "output_type": "stream",
     "text": [
      "     72/100      4.33G      1.044      3.837     0.3453      0.914      1.245        109        640: \n",
      "                 Class     Images  Instances      Box(P          R      mAP50  mAP50-95)     Pose(P  "
     ]
    },
    {
     "name": "stdout",
     "output_type": "stream",
     "text": [
      "                   all       2346       6352      0.853      0.779       0.88      0.653      0.819      0.684      0.737      0.402\n"
     ]
    },
    {
     "name": "stderr",
     "output_type": "stream",
     "text": [
      "\n"
     ]
    },
    {
     "name": "stdout",
     "output_type": "stream",
     "text": [
      "\n",
      "      Epoch    GPU_mem   box_loss  pose_loss  kobj_loss   cls_loss   dfl_loss  Instances       Size\n"
     ]
    },
    {
     "name": "stderr",
     "output_type": "stream",
     "text": [
      "     73/100      4.29G      1.038      3.792     0.3446     0.9069      1.243         95        640: \n",
      "                 Class     Images  Instances      Box(P          R      mAP50  mAP50-95)     Pose(P  "
     ]
    },
    {
     "name": "stdout",
     "output_type": "stream",
     "text": [
      "                   all       2346       6352      0.855      0.778       0.88      0.653      0.821      0.685      0.738      0.404\n"
     ]
    },
    {
     "name": "stderr",
     "output_type": "stream",
     "text": [
      "\n"
     ]
    },
    {
     "name": "stdout",
     "output_type": "stream",
     "text": [
      "\n",
      "      Epoch    GPU_mem   box_loss  pose_loss  kobj_loss   cls_loss   dfl_loss  Instances       Size\n"
     ]
    },
    {
     "name": "stderr",
     "output_type": "stream",
     "text": [
      "     74/100      4.28G      1.039      3.776     0.3431     0.9054      1.241        136        640: \n",
      "                 Class     Images  Instances      Box(P          R      mAP50  mAP50-95)     Pose(P  "
     ]
    },
    {
     "name": "stdout",
     "output_type": "stream",
     "text": [
      "                   all       2346       6352      0.862      0.772       0.88      0.654       0.82      0.686      0.739      0.404\n"
     ]
    },
    {
     "name": "stderr",
     "output_type": "stream",
     "text": [
      "\n"
     ]
    },
    {
     "name": "stdout",
     "output_type": "stream",
     "text": [
      "\n",
      "      Epoch    GPU_mem   box_loss  pose_loss  kobj_loss   cls_loss   dfl_loss  Instances       Size\n"
     ]
    },
    {
     "name": "stderr",
     "output_type": "stream",
     "text": [
      "     75/100      4.31G      1.035      3.783     0.3431     0.9049       1.24        124        640: \n",
      "                 Class     Images  Instances      Box(P          R      mAP50  mAP50-95)     Pose(P  "
     ]
    },
    {
     "name": "stdout",
     "output_type": "stream",
     "text": [
      "                   all       2346       6352      0.863      0.773      0.881      0.655       0.82      0.688       0.74      0.406\n"
     ]
    },
    {
     "name": "stderr",
     "output_type": "stream",
     "text": [
      "\n"
     ]
    },
    {
     "name": "stdout",
     "output_type": "stream",
     "text": [
      "\n",
      "      Epoch    GPU_mem   box_loss  pose_loss  kobj_loss   cls_loss   dfl_loss  Instances       Size\n"
     ]
    },
    {
     "name": "stderr",
     "output_type": "stream",
     "text": [
      "     76/100      4.31G      1.036      3.779     0.3431     0.9042       1.24        167        640: \n",
      "                 Class     Images  Instances      Box(P          R      mAP50  mAP50-95)     Pose(P  "
     ]
    },
    {
     "name": "stdout",
     "output_type": "stream",
     "text": [
      "                   all       2346       6352      0.862      0.775      0.882      0.655      0.817       0.69       0.74      0.408\n"
     ]
    },
    {
     "name": "stderr",
     "output_type": "stream",
     "text": [
      "\n"
     ]
    },
    {
     "name": "stdout",
     "output_type": "stream",
     "text": [
      "\n",
      "      Epoch    GPU_mem   box_loss  pose_loss  kobj_loss   cls_loss   dfl_loss  Instances       Size\n"
     ]
    },
    {
     "name": "stderr",
     "output_type": "stream",
     "text": [
      "     77/100      4.28G      1.033      3.759     0.3421     0.8964      1.238        144        640: \n",
      "                 Class     Images  Instances      Box(P          R      mAP50  mAP50-95)     Pose(P  "
     ]
    },
    {
     "name": "stdout",
     "output_type": "stream",
     "text": [
      "                   all       2346       6352      0.863      0.775      0.882      0.656      0.819       0.69      0.742      0.409\n"
     ]
    },
    {
     "name": "stderr",
     "output_type": "stream",
     "text": [
      "\n"
     ]
    },
    {
     "name": "stdout",
     "output_type": "stream",
     "text": [
      "\n",
      "      Epoch    GPU_mem   box_loss  pose_loss  kobj_loss   cls_loss   dfl_loss  Instances       Size\n"
     ]
    },
    {
     "name": "stderr",
     "output_type": "stream",
     "text": [
      "     78/100      4.29G      1.029      3.739     0.3417     0.8941      1.236        127        640: \n",
      "                 Class     Images  Instances      Box(P          R      mAP50  mAP50-95)     Pose(P  "
     ]
    },
    {
     "name": "stdout",
     "output_type": "stream",
     "text": [
      "                   all       2346       6352      0.864      0.777      0.882      0.656      0.819      0.692      0.742       0.41\n"
     ]
    },
    {
     "name": "stderr",
     "output_type": "stream",
     "text": [
      "\n"
     ]
    },
    {
     "name": "stdout",
     "output_type": "stream",
     "text": [
      "\n",
      "      Epoch    GPU_mem   box_loss  pose_loss  kobj_loss   cls_loss   dfl_loss  Instances       Size\n"
     ]
    },
    {
     "name": "stderr",
     "output_type": "stream",
     "text": [
      "     79/100      4.27G      1.027      3.721     0.3406     0.8922      1.234         94        640: \n",
      "                 Class     Images  Instances      Box(P          R      mAP50  mAP50-95)     Pose(P  "
     ]
    },
    {
     "name": "stdout",
     "output_type": "stream",
     "text": [
      "                   all       2346       6352      0.858      0.782      0.882      0.657      0.818      0.691      0.744      0.412\n"
     ]
    },
    {
     "name": "stderr",
     "output_type": "stream",
     "text": [
      "\n"
     ]
    },
    {
     "name": "stdout",
     "output_type": "stream",
     "text": [
      "\n",
      "      Epoch    GPU_mem   box_loss  pose_loss  kobj_loss   cls_loss   dfl_loss  Instances       Size\n"
     ]
    },
    {
     "name": "stderr",
     "output_type": "stream",
     "text": [
      "     80/100      4.29G      1.024      3.711     0.3398     0.8915      1.233        122        640: \n",
      "                 Class     Images  Instances      Box(P          R      mAP50  mAP50-95)     Pose(P  "
     ]
    },
    {
     "name": "stdout",
     "output_type": "stream",
     "text": [
      "                   all       2346       6352      0.865      0.777      0.882      0.658      0.814      0.694      0.743      0.412\n"
     ]
    },
    {
     "name": "stderr",
     "output_type": "stream",
     "text": [
      "\n"
     ]
    },
    {
     "name": "stdout",
     "output_type": "stream",
     "text": [
      "\n",
      "      Epoch    GPU_mem   box_loss  pose_loss  kobj_loss   cls_loss   dfl_loss  Instances       Size\n"
     ]
    },
    {
     "name": "stderr",
     "output_type": "stream",
     "text": [
      "     81/100      4.29G      1.027      3.704     0.3391     0.8877      1.232        157        640: \n",
      "                 Class     Images  Instances      Box(P          R      mAP50  mAP50-95)     Pose(P  "
     ]
    },
    {
     "name": "stdout",
     "output_type": "stream",
     "text": [
      "                   all       2346       6352      0.863      0.779      0.882      0.658      0.816      0.694      0.743      0.414\n"
     ]
    },
    {
     "name": "stderr",
     "output_type": "stream",
     "text": [
      "\n"
     ]
    },
    {
     "name": "stdout",
     "output_type": "stream",
     "text": [
      "\n",
      "      Epoch    GPU_mem   box_loss  pose_loss  kobj_loss   cls_loss   dfl_loss  Instances       Size\n"
     ]
    },
    {
     "name": "stderr",
     "output_type": "stream",
     "text": [
      "     82/100      4.33G      1.022       3.69     0.3382     0.8823      1.229        110        640: \n",
      "                 Class     Images  Instances      Box(P          R      mAP50  mAP50-95)     Pose(P  "
     ]
    },
    {
     "name": "stdout",
     "output_type": "stream",
     "text": [
      "                   all       2346       6352      0.863       0.78      0.883      0.659      0.819      0.693      0.744      0.415\n"
     ]
    },
    {
     "name": "stderr",
     "output_type": "stream",
     "text": [
      "\n"
     ]
    },
    {
     "name": "stdout",
     "output_type": "stream",
     "text": [
      "\n",
      "      Epoch    GPU_mem   box_loss  pose_loss  kobj_loss   cls_loss   dfl_loss  Instances       Size\n"
     ]
    },
    {
     "name": "stderr",
     "output_type": "stream",
     "text": [
      "     83/100      4.28G       1.02      3.677     0.3381     0.8833      1.228        104        640: \n",
      "                 Class     Images  Instances      Box(P          R      mAP50  mAP50-95)     Pose(P  "
     ]
    },
    {
     "name": "stdout",
     "output_type": "stream",
     "text": [
      "                   all       2346       6352      0.863      0.779      0.883       0.66      0.818      0.694      0.745      0.416\n"
     ]
    },
    {
     "name": "stderr",
     "output_type": "stream",
     "text": [
      "\n"
     ]
    },
    {
     "name": "stdout",
     "output_type": "stream",
     "text": [
      "\n",
      "      Epoch    GPU_mem   box_loss  pose_loss  kobj_loss   cls_loss   dfl_loss  Instances       Size\n"
     ]
    },
    {
     "name": "stderr",
     "output_type": "stream",
     "text": [
      "     84/100      4.29G      1.017      3.665     0.3374     0.8763      1.225        104        640: \n",
      "                 Class     Images  Instances      Box(P          R      mAP50  mAP50-95)     Pose(P  "
     ]
    },
    {
     "name": "stdout",
     "output_type": "stream",
     "text": [
      "                   all       2346       6352      0.864      0.781      0.884       0.66      0.816      0.696      0.745      0.417\n"
     ]
    },
    {
     "name": "stderr",
     "output_type": "stream",
     "text": [
      "\n"
     ]
    },
    {
     "name": "stdout",
     "output_type": "stream",
     "text": [
      "\n",
      "      Epoch    GPU_mem   box_loss  pose_loss  kobj_loss   cls_loss   dfl_loss  Instances       Size\n"
     ]
    },
    {
     "name": "stderr",
     "output_type": "stream",
     "text": [
      "     85/100      4.27G      1.015      3.651      0.337     0.8775      1.226        115        640: \n",
      "                 Class     Images  Instances      Box(P          R      mAP50  mAP50-95)     Pose(P  "
     ]
    },
    {
     "name": "stdout",
     "output_type": "stream",
     "text": [
      "                   all       2346       6352      0.864      0.781      0.884       0.66      0.819      0.694      0.747      0.418\n"
     ]
    },
    {
     "name": "stderr",
     "output_type": "stream",
     "text": [
      "\n"
     ]
    },
    {
     "name": "stdout",
     "output_type": "stream",
     "text": [
      "\n",
      "      Epoch    GPU_mem   box_loss  pose_loss  kobj_loss   cls_loss   dfl_loss  Instances       Size\n"
     ]
    },
    {
     "name": "stderr",
     "output_type": "stream",
     "text": [
      "     86/100      4.29G      1.013      3.638     0.3359     0.8753      1.225        139        640: \n",
      "                 Class     Images  Instances      Box(P          R      mAP50  mAP50-95)     Pose(P  "
     ]
    },
    {
     "name": "stdout",
     "output_type": "stream",
     "text": [
      "                   all       2346       6352      0.865      0.781      0.884      0.661       0.82      0.693      0.746      0.419\n"
     ]
    },
    {
     "name": "stderr",
     "output_type": "stream",
     "text": [
      "\n"
     ]
    },
    {
     "name": "stdout",
     "output_type": "stream",
     "text": [
      "\n",
      "      Epoch    GPU_mem   box_loss  pose_loss  kobj_loss   cls_loss   dfl_loss  Instances       Size\n"
     ]
    },
    {
     "name": "stderr",
     "output_type": "stream",
     "text": [
      "     87/100      4.28G      1.008      3.611     0.3343      0.869      1.221        126        640: \n",
      "                 Class     Images  Instances      Box(P          R      mAP50  mAP50-95)     Pose(P  "
     ]
    },
    {
     "name": "stdout",
     "output_type": "stream",
     "text": [
      "                   all       2346       6352      0.859      0.786      0.885      0.662      0.819      0.694      0.747       0.42\n"
     ]
    },
    {
     "name": "stderr",
     "output_type": "stream",
     "text": [
      "\n"
     ]
    },
    {
     "name": "stdout",
     "output_type": "stream",
     "text": [
      "\n",
      "      Epoch    GPU_mem   box_loss  pose_loss  kobj_loss   cls_loss   dfl_loss  Instances       Size\n"
     ]
    },
    {
     "name": "stderr",
     "output_type": "stream",
     "text": [
      "     88/100       4.3G      1.005      3.604      0.334     0.8667      1.219         95        640: \n",
      "                 Class     Images  Instances      Box(P          R      mAP50  mAP50-95)     Pose(P  "
     ]
    },
    {
     "name": "stdout",
     "output_type": "stream",
     "text": [
      "                   all       2346       6352      0.858      0.786      0.885      0.663      0.819      0.694      0.748      0.421\n"
     ]
    },
    {
     "name": "stderr",
     "output_type": "stream",
     "text": [
      "\n"
     ]
    },
    {
     "name": "stdout",
     "output_type": "stream",
     "text": [
      "\n",
      "      Epoch    GPU_mem   box_loss  pose_loss  kobj_loss   cls_loss   dfl_loss  Instances       Size\n"
     ]
    },
    {
     "name": "stderr",
     "output_type": "stream",
     "text": [
      "     89/100      4.27G      1.004      3.585      0.333     0.8631      1.218        103        640: \n",
      "                 Class     Images  Instances      Box(P          R      mAP50  mAP50-95)     Pose(P  "
     ]
    },
    {
     "name": "stdout",
     "output_type": "stream",
     "text": [
      "                   all       2346       6352      0.858      0.788      0.885      0.663      0.819      0.694      0.749      0.423\n"
     ]
    },
    {
     "name": "stderr",
     "output_type": "stream",
     "text": [
      "\n"
     ]
    },
    {
     "name": "stdout",
     "output_type": "stream",
     "text": [
      "\n",
      "      Epoch    GPU_mem   box_loss  pose_loss  kobj_loss   cls_loss   dfl_loss  Instances       Size\n"
     ]
    },
    {
     "name": "stderr",
     "output_type": "stream",
     "text": [
      "     90/100      4.32G      1.006      3.576     0.3324     0.8631      1.216        141        640: \n",
      "                 Class     Images  Instances      Box(P          R      mAP50  mAP50-95)     Pose(P  "
     ]
    },
    {
     "name": "stdout",
     "output_type": "stream",
     "text": [
      "                   all       2346       6352      0.855      0.791      0.886      0.663      0.819      0.696       0.75      0.424\n"
     ]
    },
    {
     "name": "stderr",
     "output_type": "stream",
     "text": [
      "\n"
     ]
    },
    {
     "name": "stdout",
     "output_type": "stream",
     "text": [
      "Closing dataloader mosaic\n",
      "\n",
      "      Epoch    GPU_mem   box_loss  pose_loss  kobj_loss   cls_loss   dfl_loss  Instances       Size\n"
     ]
    },
    {
     "name": "stderr",
     "output_type": "stream",
     "text": [
      "     91/100      4.32G     0.9453      3.063     0.3243     0.7547      1.177         64        640: \n",
      "                 Class     Images  Instances      Box(P          R      mAP50  mAP50-95)     Pose(P  "
     ]
    },
    {
     "name": "stdout",
     "output_type": "stream",
     "text": [
      "                   all       2346       6352      0.859       0.79      0.887      0.664      0.818      0.698      0.751      0.425\n"
     ]
    },
    {
     "name": "stderr",
     "output_type": "stream",
     "text": [
      "\n"
     ]
    },
    {
     "name": "stdout",
     "output_type": "stream",
     "text": [
      "\n",
      "      Epoch    GPU_mem   box_loss  pose_loss  kobj_loss   cls_loss   dfl_loss  Instances       Size\n"
     ]
    },
    {
     "name": "stderr",
     "output_type": "stream",
     "text": [
      "     92/100      4.26G     0.9368      3.023     0.3222     0.7439      1.171         53        640: \n",
      "                 Class     Images  Instances      Box(P          R      mAP50  mAP50-95)     Pose(P  "
     ]
    },
    {
     "name": "stdout",
     "output_type": "stream",
     "text": [
      "                   all       2346       6352      0.862      0.788      0.887      0.665      0.818        0.7      0.753      0.426\n"
     ]
    },
    {
     "name": "stderr",
     "output_type": "stream",
     "text": [
      "\n"
     ]
    },
    {
     "name": "stdout",
     "output_type": "stream",
     "text": [
      "\n",
      "      Epoch    GPU_mem   box_loss  pose_loss  kobj_loss   cls_loss   dfl_loss  Instances       Size\n"
     ]
    },
    {
     "name": "stderr",
     "output_type": "stream",
     "text": [
      "     93/100      4.28G     0.9321      3.001     0.3205     0.7363      1.169         71        640: \n",
      "                 Class     Images  Instances      Box(P          R      mAP50  mAP50-95)     Pose(P  "
     ]
    },
    {
     "name": "stdout",
     "output_type": "stream",
     "text": [
      "                   all       2346       6352      0.863       0.79      0.888      0.666      0.818      0.702      0.755      0.427\n"
     ]
    },
    {
     "name": "stderr",
     "output_type": "stream",
     "text": [
      "\n"
     ]
    },
    {
     "name": "stdout",
     "output_type": "stream",
     "text": [
      "\n",
      "      Epoch    GPU_mem   box_loss  pose_loss  kobj_loss   cls_loss   dfl_loss  Instances       Size\n"
     ]
    },
    {
     "name": "stderr",
     "output_type": "stream",
     "text": [
      "     94/100      4.33G     0.9284      2.981     0.3198     0.7328      1.167         77        640: \n",
      "                 Class     Images  Instances      Box(P          R      mAP50  mAP50-95)     Pose(P  "
     ]
    },
    {
     "name": "stdout",
     "output_type": "stream",
     "text": [
      "                   all       2346       6352      0.862      0.791      0.889      0.667       0.82      0.703      0.755      0.428\n"
     ]
    },
    {
     "name": "stderr",
     "output_type": "stream",
     "text": [
      "\n"
     ]
    },
    {
     "name": "stdout",
     "output_type": "stream",
     "text": [
      "\n",
      "      Epoch    GPU_mem   box_loss  pose_loss  kobj_loss   cls_loss   dfl_loss  Instances       Size\n"
     ]
    },
    {
     "name": "stderr",
     "output_type": "stream",
     "text": [
      "     95/100      4.28G     0.9229      2.951      0.319     0.7269      1.161         48        640: \n",
      "                 Class     Images  Instances      Box(P          R      mAP50  mAP50-95)     Pose(P  "
     ]
    },
    {
     "name": "stdout",
     "output_type": "stream",
     "text": [
      "                   all       2346       6352      0.863      0.793       0.89      0.667      0.822      0.703      0.757       0.43\n"
     ]
    },
    {
     "name": "stderr",
     "output_type": "stream",
     "text": [
      "\n"
     ]
    },
    {
     "name": "stdout",
     "output_type": "stream",
     "text": [
      "\n",
      "      Epoch    GPU_mem   box_loss  pose_loss  kobj_loss   cls_loss   dfl_loss  Instances       Size\n"
     ]
    },
    {
     "name": "stderr",
     "output_type": "stream",
     "text": [
      "     96/100      4.26G     0.9187      2.934     0.3179       0.72      1.158         63        640: \n",
      "                 Class     Images  Instances      Box(P          R      mAP50  mAP50-95)     Pose(P  "
     ]
    },
    {
     "name": "stdout",
     "output_type": "stream",
     "text": [
      "                   all       2346       6352      0.863      0.794      0.891      0.668      0.822      0.703      0.758      0.431\n"
     ]
    },
    {
     "name": "stderr",
     "output_type": "stream",
     "text": [
      "\n"
     ]
    },
    {
     "name": "stdout",
     "output_type": "stream",
     "text": [
      "\n",
      "      Epoch    GPU_mem   box_loss  pose_loss  kobj_loss   cls_loss   dfl_loss  Instances       Size\n"
     ]
    },
    {
     "name": "stderr",
     "output_type": "stream",
     "text": [
      "     97/100      4.32G     0.9145       2.92     0.3166     0.7164      1.156         66        640: \n",
      "                 Class     Images  Instances      Box(P          R      mAP50  mAP50-95)     Pose(P  "
     ]
    },
    {
     "name": "stdout",
     "output_type": "stream",
     "text": [
      "                   all       2346       6352      0.867      0.792      0.891      0.669      0.824      0.704      0.758      0.432\n"
     ]
    },
    {
     "name": "stderr",
     "output_type": "stream",
     "text": [
      "\n"
     ]
    },
    {
     "name": "stdout",
     "output_type": "stream",
     "text": [
      "\n",
      "      Epoch    GPU_mem   box_loss  pose_loss  kobj_loss   cls_loss   dfl_loss  Instances       Size\n"
     ]
    },
    {
     "name": "stderr",
     "output_type": "stream",
     "text": [
      "     98/100      4.33G     0.9099      2.893     0.3161     0.7114      1.152         54        640: \n",
      "                 Class     Images  Instances      Box(P          R      mAP50  mAP50-95)     Pose(P  "
     ]
    },
    {
     "name": "stdout",
     "output_type": "stream",
     "text": [
      "                   all       2346       6352      0.869      0.792      0.892       0.67      0.822      0.706      0.759      0.434\n"
     ]
    },
    {
     "name": "stderr",
     "output_type": "stream",
     "text": [
      "\n"
     ]
    },
    {
     "name": "stdout",
     "output_type": "stream",
     "text": [
      "\n",
      "      Epoch    GPU_mem   box_loss  pose_loss  kobj_loss   cls_loss   dfl_loss  Instances       Size\n"
     ]
    },
    {
     "name": "stderr",
     "output_type": "stream",
     "text": [
      "     99/100      4.32G     0.9056      2.866     0.3151      0.706      1.152         58        640: \n",
      "                 Class     Images  Instances      Box(P          R      mAP50  mAP50-95)     Pose(P  "
     ]
    },
    {
     "name": "stdout",
     "output_type": "stream",
     "text": [
      "                   all       2346       6352      0.873       0.79      0.893       0.67      0.818      0.711      0.759      0.435\n"
     ]
    },
    {
     "name": "stderr",
     "output_type": "stream",
     "text": [
      "\n"
     ]
    },
    {
     "name": "stdout",
     "output_type": "stream",
     "text": [
      "\n",
      "      Epoch    GPU_mem   box_loss  pose_loss  kobj_loss   cls_loss   dfl_loss  Instances       Size\n"
     ]
    },
    {
     "name": "stderr",
     "output_type": "stream",
     "text": [
      "    100/100      4.28G     0.9066      2.886     0.3161     0.7083      1.151         92        640: "
     ]
    }
   ],
   "source": [
    "train_model(FallDeteNet_V2, \"new_coco-pose.yaml\", epochs=100, batch_size=32, img_size=640, device=\"cuda\")"
   ]
  },
  {
   "cell_type": "code",
   "execution_count": null,
   "id": "afd0323b-891d-442c-921c-9fed32c22feb",
   "metadata": {},
   "outputs": [],
   "source": []
  }
 ],
 "metadata": {
  "kernelspec": {
   "display_name": "Python 3 (ipykernel)",
   "language": "python",
   "name": "python3"
  },
  "language_info": {
   "codemirror_mode": {
    "name": "ipython",
    "version": 3
   },
   "file_extension": ".py",
   "mimetype": "text/x-python",
   "name": "python",
   "nbconvert_exporter": "python",
   "pygments_lexer": "ipython3",
   "version": "3.10.16"
  }
 },
 "nbformat": 4,
 "nbformat_minor": 5
}
